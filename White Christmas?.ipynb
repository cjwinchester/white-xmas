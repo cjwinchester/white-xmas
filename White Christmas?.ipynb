{
 "cells": [
  {
   "cell_type": "markdown",
   "metadata": {},
   "source": [
    "# ❄️❄️❄️ White Christmas? ❄️❄️❄️\n",
    "\n",
    "When I was working at the Omaha World-Herald, my colleague Ben Vankat made [a cool page](http://dataomaha.com/media/news/2014/snow/) showing how often Omaha has a white Christmas (at least an inch of snow on the ground). The helpful folks at the local National Weather Service forecast office update [an HTML table](http://www.weather.gov/oax/christmas) each year with new data.\n",
    "\n",
    "Not every NWS station does this, of course. But! It turns out that [NOAA has a climate data API](https://www.ncdc.noaa.gov/cdo-web/webservices/v2), and I thought it'd be fun to write a Python script to collect historical Christmas snow data for Colorado Springs. And once you find the ID for your city, you can do the same thing."
   ]
  },
  {
   "cell_type": "markdown",
   "metadata": {},
   "source": [
    "### Request an access token from NOAA\n",
    "\n",
    "Enter your email address [on this page](https://www.ncdc.noaa.gov/cdo-web/token) and you'll be sent an auth token.\n",
    "\n",
    "Next, set this token as an environmental variable on your computer -- I called mine `NOAA_TOKEN`. (If you're not sure how to do this, [here's a good rundown](https://www.schrodinger.com/kb/1842).)"
   ]
  },
  {
   "cell_type": "markdown",
   "metadata": {},
   "source": [
    "### Find your city's location ID\n",
    "\n",
    "We're going to be asking for daily climate summary data from weather stations in Colorado Springs. NOAA has IDs for each location in its data. [According to the API documentation](https://www.ncdc.noaa.gov/cdo-web/webservices/v2#locations),\n",
    "> Locations can be a specific latitude/longitude point such as a station, or a label representing a bounding area such as a city.\n",
    "\n",
    "We're interested in cities, which can have multiple weather stations. A call to the endpoint `https://www.ncdc.noaa.gov/cdo-web/api/v2/locations?locationcategoryid=CITY` returns a paginated array of cities in the data. (I didn't see an option in the API docs to filter the results based on the name of the city.)\n",
    "\n",
    "We _could_ loop through every page of results from that endpoint and programatically search each result set to find the station we need, but I'm lazy, so I just used a combination of `sortfield`, `offset` and `limit` parameters to trial-and-error my way to the page with \"Colorado Springs\" on it, then Ctrl+F'd to find Colorado Springs's ID (`CITY:US080003`). Here's what I ended up with."
   ]
  },
  {
   "cell_type": "code",
   "execution_count": 1,
   "metadata": {},
   "outputs": [],
   "source": [
    "import requests\n",
    "from os import environ\n",
    "\n",
    "TOKEN = environ.get('NOAA_TOKEN')"
   ]
  },
  {
   "cell_type": "code",
   "execution_count": 35,
   "metadata": {},
   "outputs": [
    {
     "name": "stdout",
     "output_type": "stream",
     "text": [
      "{\"metadata\":{\"resultset\":{\"offset\":100,\"count\":1980,\"limit\":500}},\"results\":[{\"mindate\":\"1916-01-01\",\"maxdate\":\"2017-12-13\",\"name\":\"Athens, OH US\",\"datacoverage\":1,\"id\":\"CITY:US390004\"},{\"mindate\":\"1903-12-01\",\"maxdate\":\"2017-12-13\",\"name\":\"Athens, TX US\",\"datacoverage\":1,\"id\":\"CITY:US480004\"},{\"mindate\":\"1899-06-01\",\"maxdate\":\"2017-12-13\",\"name\":\"Atlanta, GA US\",\"datacoverage\":1,\"id\":\"CITY:US130004\"},{\"mindate\":\"1881-01-01\",\"maxdate\":\"2017-12-06\",\"name\":\"Atyrau, KZ\",\"datacoverage\":0.9515,\"id\":\"CITY:KZ000004\"},{\"mindate\":\"1906-04-01\",\"maxdate\":\"2017-12-13\",\"name\":\"Auburn, AL US\",\"datacoverage\":1,\"id\":\"CITY:US010003\"},{\"mindate\":\"1994-08-01\",\"maxdate\":\"2017-12-06\",\"name\":\"Auckland, NZ\",\"datacoverage\":1,\"id\":\"CITY:NZ000001\"},{\"mindate\":\"1891-07-01\",\"maxdate\":\"2017-12-13\",\"name\":\"Augusta, GA US\",\"datacoverage\":1,\"id\":\"CITY:US130005\"},{\"mindate\":\"1886-09-01\",\"maxdate\":\"2017-12-13\",\"name\":\"Augusta, ME US\",\"datacoverage\":1,\"id\":\"CITY:US230001\"},{\"mindate\":\"1893-01-01\",\"maxdate\":\"2017-12-13\",\"name\":\"Aurora, IL US\",\"datacoverage\":1,\"id\":\"CITY:US170001\"},{\"mindate\":\"1937-04-01\",\"maxdate\":\"2017-12-13\",\"name\":\"Austin, MN US\",\"datacoverage\":1,\"id\":\"CITY:US270001\"},{\"mindate\":\"1893-01-01\",\"maxdate\":\"2017-12-13\",\"name\":\"Austin, TX US\",\"datacoverage\":1,\"id\":\"CITY:US480005\"},{\"mindate\":\"1959-04-01\",\"maxdate\":\"1996-12-31\",\"name\":\"Aveiro, PO\",\"datacoverage\":1,\"id\":\"CITY:PO000001\"},{\"mindate\":\"1972-07-01\",\"maxdate\":\"1988-12-31\",\"name\":\"Awasa, ET\",\"datacoverage\":0.9998,\"id\":\"CITY:ET000003\"},{\"mindate\":\"1967-03-01\",\"maxdate\":\"2017-12-06\",\"name\":\"Ayacucho, PE\",\"datacoverage\":1,\"id\":\"CITY:PE000003\"},{\"mindate\":\"1982-11-01\",\"maxdate\":\"2017-12-06\",\"name\":\"Aydin, TU\",\"datacoverage\":1,\"id\":\"CITY:TU000008\"},{\"mindate\":\"1953-12-01\",\"maxdate\":\"2017-12-06\",\"name\":\"Az Zarqa', JO\",\"datacoverage\":1,\"id\":\"CITY:JO000004\"},{\"mindate\":\"1961-01-01\",\"maxdate\":\"1986-12-31\",\"name\":\"Babahoyo, EC\",\"datacoverage\":0.952,\"id\":\"CITY:EC000002\"},{\"mindate\":\"1961-01-01\",\"maxdate\":\"2009-12-31\",\"name\":\"Bacau, RO\",\"datacoverage\":1,\"id\":\"CITY:RO000003\"},{\"mindate\":\"1956-02-01\",\"maxdate\":\"2017-12-06\",\"name\":\"Bahia Blanca, AR\",\"datacoverage\":0.9973,\"id\":\"CITY:AR000001\"},{\"mindate\":\"1896-03-01\",\"maxdate\":\"2000-12-31\",\"name\":\"Baia Mare, RO\",\"datacoverage\":1,\"id\":\"CITY:RO000004\"},{\"mindate\":\"1892-06-01\",\"maxdate\":\"2017-12-13\",\"name\":\"Bainbridge, GA US\",\"datacoverage\":1,\"id\":\"CITY:US130006\"},{\"mindate\":\"1893-01-01\",\"maxdate\":\"2017-12-13\",\"name\":\"Bakersfield, CA US\",\"datacoverage\":1,\"id\":\"CITY:US060002\"},{\"mindate\":\"1881-07-01\",\"maxdate\":\"1992-01-31\",\"name\":\"Baku, AJ\",\"datacoverage\":0.991,\"id\":\"CITY:AJ000001\"},{\"mindate\":\"1950-01-01\",\"maxdate\":\"2017-12-06\",\"name\":\"Balikesir, TU\",\"datacoverage\":0.9973,\"id\":\"CITY:TU000009\"},{\"mindate\":\"1962-10-08\",\"maxdate\":\"2017-12-06\",\"name\":\"Balikpapan, ID\",\"datacoverage\":0.7601,\"id\":\"CITY:ID000002\"},{\"mindate\":\"1880-01-01\",\"maxdate\":\"2017-12-13\",\"name\":\"Baltimore, MD US\",\"datacoverage\":1,\"id\":\"CITY:US240002\"},{\"mindate\":\"1975-01-01\",\"maxdate\":\"2017-12-06\",\"name\":\"Bamako, ML\",\"datacoverage\":1,\"id\":\"CITY:ML000001\"},{\"mindate\":\"1973-01-12\",\"maxdate\":\"2017-12-06\",\"name\":\"Banda Aceh, ID\",\"datacoverage\":1,\"id\":\"CITY:ID000003\"},{\"mindate\":\"1981-01-01\",\"maxdate\":\"2017-12-06\",\"name\":\"Bandar Seri Begawan, BX\",\"datacoverage\":1,\"id\":\"CITY:BX000001\"},{\"mindate\":\"1962-10-01\",\"maxdate\":\"2017-12-06\",\"name\":\"Bandjermasin, ID\",\"datacoverage\":0.9819,\"id\":\"CITY:ID000004\"},{\"mindate\":\"1976-05-01\",\"maxdate\":\"2011-06-01\",\"name\":\"Bandundu, CG\",\"datacoverage\":0.2847,\"id\":\"CITY:CG000001\"},{\"mindate\":\"1901-01-01\",\"maxdate\":\"2017-12-06\",\"name\":\"Bangalore, IN\",\"datacoverage\":1,\"id\":\"CITY:IN000005\"},{\"mindate\":\"1943-01-01\",\"maxdate\":\"2017-12-06\",\"name\":\"Bangkok, TH\",\"datacoverage\":1,\"id\":\"CITY:TH000001\"},{\"mindate\":\"1893-08-01\",\"maxdate\":\"2017-12-13\",\"name\":\"Bangor, ME US\",\"datacoverage\":1,\"id\":\"CITY:US230002\"},{\"mindate\":\"1950-01-01\",\"maxdate\":\"2017-12-06\",\"name\":\"Bangui, CT\",\"datacoverage\":1,\"id\":\"CITY:CT000001\"},{\"mindate\":\"1952-01-01\",\"maxdate\":\"2017-12-06\",\"name\":\"Banska Bystrica, LO\",\"datacoverage\":1,\"id\":\"CITY:LO000001\"},{\"mindate\":\"1920-01-01\",\"maxdate\":\"2017-12-06\",\"name\":\"Barcelona, SP\",\"datacoverage\":1,\"id\":\"CITY:SP000001\"},{\"mindate\":\"1968-01-01\",\"maxdate\":\"2016-12-30\",\"name\":\"Barcelona, VE\",\"datacoverage\":1,\"id\":\"CITY:VE000001\"},{\"mindate\":\"1961-01-01\",\"maxdate\":\"2017-12-05\",\"name\":\"Barisal, BG\",\"datacoverage\":0.445,\"id\":\"CITY:BG000001\"},{\"mindate\":\"1933-02-01\",\"maxdate\":\"2017-12-06\",\"name\":\"Barnaul, RS\",\"datacoverage\":0.9985,\"id\":\"CITY:RS000004\"},{\"mindate\":\"1885-01-01\",\"maxdate\":\"2017-12-13\",\"name\":\"Barnstable Town, MA US\",\"datacoverage\":1,\"id\":\"CITY:US250001\"},{\"mindate\":\"1959-01-01\",\"maxdate\":\"2017-12-06\",\"name\":\"Barquisimeto, VE\",\"datacoverage\":0.9995,\"id\":\"CITY:VE000002\"},{\"mindate\":\"1941-05-02\",\"maxdate\":\"2017-12-06\",\"name\":\"Barranquilla, CO\",\"datacoverage\":0.9819,\"id\":\"CITY:CO000003\"},{\"mindate\":\"1903-01-01\",\"maxdate\":\"2017-12-13\",\"name\":\"Barstow, CA US\",\"datacoverage\":1,\"id\":\"CITY:US060003\"},{\"mindate\":\"1914-01-01\",\"maxdate\":\"2017-12-13\",\"name\":\"Bartlesville, OK US\",\"datacoverage\":1,\"id\":\"CITY:US400004\"},{\"mindate\":\"1901-01-01\",\"maxdate\":\"2017-12-06\",\"name\":\"Basel, SZ\",\"datacoverage\":1,\"id\":\"CITY:SZ000001\"},{\"mindate\":\"1893-12-01\",\"maxdate\":\"2017-12-13\",\"name\":\"Bastrop, LA US\",\"datacoverage\":1,\"id\":\"CITY:US220002\"},{\"mindate\":\"1936-01-01\",\"maxdate\":\"2017-12-06\",\"name\":\"Bat'umi, GG\",\"datacoverage\":0.9907,\"id\":\"CITY:GG000001\"},{\"mindate\":\"2007-11-12\",\"maxdate\":\"2017-12-06\",\"name\":\"Bata, EK\",\"datacoverage\":1,\"id\":\"CITY:EK000001\"},{\"mindate\":\"1973-04-01\",\"maxdate\":\"2017-12-06\",\"name\":\"Batna, AG\",\"datacoverage\":0.9993,\"id\":\"CITY:AG000003\"},{\"mindate\":\"1892-02-01\",\"maxdate\":\"2017-12-13\",\"name\":\"Baton Rouge, LA US\",\"datacoverage\":1,\"id\":\"CITY:US220003\"},{\"mindate\":\"1909-10-01\",\"maxdate\":\"2017-12-13\",\"name\":\"Bay City, TX US\",\"datacoverage\":1,\"id\":\"CITY:US480006\"},{\"mindate\":\"1893-01-01\",\"maxdate\":\"2017-12-13\",\"name\":\"Beatrice, NE US\",\"datacoverage\":1,\"id\":\"CITY:US310001\"},{\"mindate\":\"1901-11-01\",\"maxdate\":\"2017-12-13\",\"name\":\"Beaumont, TX US\",\"datacoverage\":1,\"id\":\"CITY:US480007\"},{\"mindate\":\"1957-01-01\",\"maxdate\":\"2017-12-06\",\"name\":\"Bechar, AG\",\"datacoverage\":1,\"id\":\"CITY:AG000004\"},{\"mindate\":\"1893-12-01\",\"maxdate\":\"2017-12-13\",\"name\":\"Beckley, WV US\",\"datacoverage\":1,\"id\":\"CITY:US540001\"},{\"mindate\":\"1951-01-01\",\"maxdate\":\"2017-12-06\",\"name\":\"Beersheba, IS\",\"datacoverage\":1,\"id\":\"CITY:IS000001\"},{\"mindate\":\"1895-08-01\",\"maxdate\":\"2017-12-13\",\"name\":\"Beeville, TX US\",\"datacoverage\":1,\"id\":\"CITY:US480008\"},{\"mindate\":\"1945-10-31\",\"maxdate\":\"2017-12-06\",\"name\":\"Beijing, CH\",\"datacoverage\":1,\"id\":\"CITY:CH000003\"},{\"mindate\":\"1951-01-01\",\"maxdate\":\"2017-12-06\",\"name\":\"Beira, MZ\",\"datacoverage\":0.8966,\"id\":\"CITY:MZ000001\"},{\"mindate\":\"1912-01-01\",\"maxdate\":\"2017-12-06\",\"name\":\"Beirut, LE\",\"datacoverage\":1,\"id\":\"CITY:LE000001\"},{\"mindate\":\"1909-11-01\",\"maxdate\":\"2017-12-06\",\"name\":\"Bejaia, AG\",\"datacoverage\":1,\"id\":\"CITY:AG000005\"},{\"mindate\":\"1942-10-01\",\"maxdate\":\"2017-12-06\",\"name\":\"Belem, BR\",\"datacoverage\":1,\"id\":\"CITY:BR000002\"},{\"mindate\":\"1939-08-01\",\"maxdate\":\"2017-12-06\",\"name\":\"Belfast, UK\",\"datacoverage\":1,\"id\":\"CITY:UK000001\"},{\"mindate\":\"1936-01-01\",\"maxdate\":\"2013-04-29\",\"name\":\"Belgorod, RS\",\"datacoverage\":0.9819,\"id\":\"CITY:RS000005\"},{\"mindate\":\"1935-12-01\",\"maxdate\":\"2017-12-06\",\"name\":\"Belgrade, RB\",\"datacoverage\":1,\"id\":\"CITY:RB000001\"},{\"mindate\":\"1960-11-01\",\"maxdate\":\"2017-12-06\",\"name\":\"Belize, BH\",\"datacoverage\":0.7263,\"id\":\"CITY:BH000001\"},{\"mindate\":\"1913-01-01\",\"maxdate\":\"2017-12-13\",\"name\":\"Belle Glade, FL US\",\"datacoverage\":1,\"id\":\"CITY:US120001\"},{\"mindate\":\"1894-01-01\",\"maxdate\":\"2017-12-13\",\"name\":\"Bellevue, WA US\",\"datacoverage\":1,\"id\":\"CITY:US530003\"},{\"mindate\":\"1893-07-01\",\"maxdate\":\"2017-12-13\",\"name\":\"Bellingham, WA US\",\"datacoverage\":1,\"id\":\"CITY:US530004\"},{\"mindate\":\"1939-01-01\",\"maxdate\":\"2017-12-06\",\"name\":\"Belo Horizonte, BR\",\"datacoverage\":1,\"id\":\"CITY:BR000003\"},{\"mindate\":\"1896-02-01\",\"maxdate\":\"2017-12-13\",\"name\":\"Bemidji, MN US\",\"datacoverage\":1,\"id\":\"CITY:US270002\"},{\"mindate\":\"1901-04-01\",\"maxdate\":\"2017-12-13\",\"name\":\"Bend, OR US\",\"datacoverage\":1,\"id\":\"CITY:US410001\"},{\"mindate\":\"1922-10-01\",\"maxdate\":\"2014-05-18\",\"name\":\"Benghazi, LY\",\"datacoverage\":0.9996,\"id\":\"CITY:LY000003\"},{\"mindate\":\"1973-01-12\",\"maxdate\":\"2017-12-06\",\"name\":\"Bengkulu, ID\",\"datacoverage\":0.9819,\"id\":\"CITY:ID000006\"},{\"mindate\":\"1892-04-01\",\"maxdate\":\"2017-12-13\",\"name\":\"Benton Harbor, MI US\",\"datacoverage\":1,\"id\":\"CITY:US260003\"},{\"mindate\":\"1950-01-01\",\"maxdate\":\"2017-12-06\",\"name\":\"Berberati, CT\",\"datacoverage\":0.9082,\"id\":\"CITY:CT000002\"},{\"mindate\":\"1938-01-01\",\"maxdate\":\"2017-12-06\",\"name\":\"Bergen, NO\",\"datacoverage\":1,\"id\":\"CITY:NO000001\"},{\"mindate\":\"1876-01-01\",\"maxdate\":\"2017-12-06\",\"name\":\"Berlin, GM\",\"datacoverage\":1,\"id\":\"CITY:GM000001\"},{\"mindate\":\"1886-06-01\",\"maxdate\":\"2017-12-13\",\"name\":\"Berlin, NH US\",\"datacoverage\":1,\"id\":\"CITY:US330001\"},{\"mindate\":\"2001-09-01\",\"maxdate\":\"2013-04-17\",\"name\":\"Bertoua, CM\",\"datacoverage\":0.1429,\"id\":\"CITY:CM000003\"},{\"mindate\":\"1890-01-01\",\"maxdate\":\"2005-01-01\",\"name\":\"Besancon, FR\",\"datacoverage\":1,\"id\":\"CITY:FR000003\"},{\"mindate\":\"1884-09-01\",\"maxdate\":\"2017-12-13\",\"name\":\"Bethlehem, PA US\",\"datacoverage\":1,\"id\":\"CITY:US420003\"},{\"mindate\":\"1954-08-01\",\"maxdate\":\"1970-12-31\",\"name\":\"Bhairawa, NP\",\"datacoverage\":1,\"id\":\"CITY:NP000001\"},{\"mindate\":\"1906-08-01\",\"maxdate\":\"2017-12-06\",\"name\":\"Bhopal, IN\",\"datacoverage\":1,\"id\":\"CITY:IN000006\"},{\"mindate\":\"1901-01-01\",\"maxdate\":\"2017-12-06\",\"name\":\"Bhubaneshwar, IN\",\"datacoverage\":1,\"id\":\"CITY:IN000007\"},{\"mindate\":\"1952-01-01\",\"maxdate\":\"2017-12-06\",\"name\":\"Bialystok, PL\",\"datacoverage\":0.8599,\"id\":\"CITY:PL000002\"},{\"mindate\":\"1951-01-01\",\"maxdate\":\"2017-12-06\",\"name\":\"Bien Hoa, VM\",\"datacoverage\":1,\"id\":\"CITY:VM000002\"},{\"mindate\":\"1891-09-01\",\"maxdate\":\"2017-12-13\",\"name\":\"Big Rapids, MI US\",\"datacoverage\":1,\"id\":\"CITY:US260004\"},{\"mindate\":\"1947-03-01\",\"maxdate\":\"2017-12-06\",\"name\":\"Bilbao, SP\",\"datacoverage\":1,\"id\":\"CITY:SP000002\"},{\"mindate\":\"1911-01-01\",\"maxdate\":\"2017-12-13\",\"name\":\"Billings, MT US\",\"datacoverage\":1,\"id\":\"CITY:US300001\"},{\"mindate\":\"1893-05-01\",\"maxdate\":\"2017-12-13\",\"name\":\"Biloxi, MS US\",\"datacoverage\":1,\"id\":\"CITY:US280001\"},{\"mindate\":\"1893-01-01\",\"maxdate\":\"2017-12-13\",\"name\":\"Binghamton, NY US\",\"datacoverage\":1,\"id\":\"CITY:US360003\"},{\"mindate\":\"1998-05-01\",\"maxdate\":\"2017-12-06\",\"name\":\"Bingol, TU\",\"datacoverage\":0.9999,\"id\":\"CITY:TU000010\"},{\"mindate\":\"1901-01-01\",\"maxdate\":\"1970-12-31\",\"name\":\"Biratnagar, NP\",\"datacoverage\":0.9908,\"id\":\"CITY:NP000002\"},{\"mindate\":\"1900-10-01\",\"maxdate\":\"2017-12-13\",\"name\":\"Birmingham, AL US\",\"datacoverage\":1,\"id\":\"CITY:US010004\"},{\"mindate\":\"1880-12-01\",\"maxdate\":\"2015-12-31\",\"name\":\"Birmingham, UK\",\"datacoverage\":1,\"id\":\"CITY:UK000002\"},{\"mindate\":\"1936-01-01\",\"maxdate\":\"2017-12-06\",\"name\":\"Birobidzhan, RS\",\"datacoverage\":1,\"id\":\"CITY:RS000006\"},{\"mindate\":\"1936-01-01\",\"maxdate\":\"2017-12-06\",\"name\":\"Bishkek, KG\",\"datacoverage\":0.9998,\"id\":\"CITY:KG000001\"},{\"mindate\":\"1877-11-01\",\"maxdate\":\"1997-11-30\",\"name\":\"Bisho, SF\",\"datacoverage\":0.9777,\"id\":\"CITY:SF000001\"},{\"mindate\":\"1913-07-01\",\"maxdate\":\"2017-12-13\",\"name\":\"Bismarck, ND US\",\"datacoverage\":1,\"id\":\"CITY:US380001\"},{\"mindate\":\"1973-01-01\",\"maxdate\":\"2017-12-06\",\"name\":\"Bissau, PU\",\"datacoverage\":1,\"id\":\"CITY:PU000001\"},{\"mindate\":\"1961-01-01\",\"maxdate\":\"2017-12-06\",\"name\":\"Bistrita, RO\",\"datacoverage\":1,\"id\":\"CITY:RO000005\"},{\"mindate\":\"1899-04-01\",\"maxdate\":\"1961-12-31\",\"name\":\"Bizerte, TS\",\"datacoverage\":0.9973,\"id\":\"CITY:TS000002\"},{\"mindate\":\"1893-01-01\",\"maxdate\":\"2017-12-13\",\"name\":\"Blacksburg, VA US\",\"datacoverage\":1,\"id\":\"CITY:US510003\"},{\"mindate\":\"1881-01-01\",\"maxdate\":\"2017-12-06\",\"name\":\"Blagoveshchensk, RS\",\"datacoverage\":0.9958,\"id\":\"CITY:RS000007\"},{\"mindate\":\"1939-01-01\",\"maxdate\":\"2017-12-06\",\"name\":\"Blantyre, MI\",\"datacoverage\":0.9937,\"id\":\"CITY:MI000001\"},{\"mindate\":\"1905-02-01\",\"maxdate\":\"2017-12-06\",\"name\":\"Bloemfontein, SF\",\"datacoverage\":1,\"id\":\"CITY:SF000002\"},{\"mindate\":\"1893-01-01\",\"maxdate\":\"2017-12-13\",\"name\":\"Bloomington, IL US\",\"datacoverage\":1,\"id\":\"CITY:US170002\"},{\"mindate\":\"1895-12-01\",\"maxdate\":\"2017-12-13\",\"name\":\"Bloomington, IN US\",\"datacoverage\":1,\"id\":\"CITY:US180001\"},{\"mindate\":\"1894-01-01\",\"maxdate\":\"2017-12-13\",\"name\":\"Bloomsburg, PA US\",\"datacoverage\":1,\"id\":\"CITY:US420004\"},{\"mindate\":\"1893-01-01\",\"maxdate\":\"2017-12-13\",\"name\":\"Bluefield, WV US\",\"datacoverage\":1,\"id\":\"CITY:US540002\"},{\"mindate\":\"1913-01-01\",\"maxdate\":\"2017-12-13\",\"name\":\"Blythe, CA US\",\"datacoverage\":1,\"id\":\"CITY:US060004\"},{\"mindate\":\"1892-01-01\",\"maxdate\":\"2017-12-13\",\"name\":\"Blytheville, AR US\",\"datacoverage\":1,\"id\":\"CITY:US050002\"},{\"mindate\":\"1974-06-01\",\"maxdate\":\"1997-06-18\",\"name\":\"Boa Vista, BR\",\"datacoverage\":0.1552,\"id\":\"CITY:BR000004\"},{\"mindate\":\"1973-01-01\",\"maxdate\":\"2017-12-06\",\"name\":\"Bobo Dioulasso, UV\",\"datacoverage\":1,\"id\":\"CITY:UV000002\"},{\"mindate\":\"1892-01-01\",\"maxdate\":\"2017-12-13\",\"name\":\"Boca Raton, FL US\",\"datacoverage\":1,\"id\":\"CITY:US120002\"},{\"mindate\":\"1930-07-01\",\"maxdate\":\"2017-12-13\",\"name\":\"Bogalusa, LA US\",\"datacoverage\":1,\"id\":\"CITY:US220004\"},{\"mindate\":\"1941-03-02\",\"maxdate\":\"2017-12-06\",\"name\":\"Bogota, CO\",\"datacoverage\":1,\"id\":\"CITY:CO000004\"},{\"mindate\":\"1908-09-04\",\"maxdate\":\"2017-12-13\",\"name\":\"Boise, ID US\",\"datacoverage\":1,\"id\":\"CITY:US160001\"},{\"mindate\":\"1813-01-01\",\"maxdate\":\"2007-12-31\",\"name\":\"Bologna, IT\",\"datacoverage\":1,\"id\":\"CITY:IT000004\"},{\"mindate\":\"1973-01-01\",\"maxdate\":\"2017-12-06\",\"name\":\"Bolu, TU\",\"datacoverage\":0.8286,\"id\":\"CITY:TU000011\"},{\"mindate\":\"1973-01-01\",\"maxdate\":\"2017-12-06\",\"name\":\"Bondoukou, IV\",\"datacoverage\":1,\"id\":\"CITY:IV000005\"},{\"mindate\":\"1931-04-01\",\"maxdate\":\"2017-12-06\",\"name\":\"Bonn, GM\",\"datacoverage\":1,\"id\":\"CITY:GM000002\"},{\"mindate\":\"1907-09-01\",\"maxdate\":\"2017-12-13\",\"name\":\"Boone, NC US\",\"datacoverage\":1,\"id\":\"CITY:US370003\"},{\"mindate\":\"1831-02-01\",\"maxdate\":\"2017-12-13\",\"name\":\"Boston, MA US\",\"datacoverage\":1,\"id\":\"CITY:US250002\"},{\"mindate\":\"1961-01-01\",\"maxdate\":\"2017-12-06\",\"name\":\"Botosani, RO\",\"datacoverage\":1,\"id\":\"CITY:RO000006\"},{\"mindate\":\"1945-01-01\",\"maxdate\":\"2017-12-06\",\"name\":\"Bouake, IV\",\"datacoverage\":0.9699,\"id\":\"CITY:IV000007\"},{\"mindate\":\"1931-09-01\",\"maxdate\":\"2017-12-13\",\"name\":\"Boulder City, NV US\",\"datacoverage\":1,\"id\":\"CITY:US320001\"},{\"mindate\":\"1893-10-01\",\"maxdate\":\"2017-12-13\",\"name\":\"Boulder, CO US\",\"datacoverage\":1,\"id\":\"CITY:US080001\"},{\"mindate\":\"1893-01-01\",\"maxdate\":\"2017-12-13\",\"name\":\"Bowling Green, KY US\",\"datacoverage\":1,\"id\":\"CITY:US210001\"},{\"mindate\":\"1893-06-01\",\"maxdate\":\"2017-12-13\",\"name\":\"Bowling Green, OH US\",\"datacoverage\":1,\"id\":\"CITY:US390005\"},{\"mindate\":\"1892-01-01\",\"maxdate\":\"2017-12-13\",\"name\":\"Boynton Beach, FL US\",\"datacoverage\":1,\"id\":\"CITY:US120003\"},{\"mindate\":\"1892-04-01\",\"maxdate\":\"2017-12-13\",\"name\":\"Bozeman, MT US\",\"datacoverage\":1,\"id\":\"CITY:US300002\"},{\"mindate\":\"1892-02-01\",\"maxdate\":\"2017-12-13\",\"name\":\"Bradenton, FL US\",\"datacoverage\":1,\"id\":\"CITY:US120004\"},{\"mindate\":\"1949-10-01\",\"maxdate\":\"2002-07-31\",\"name\":\"Braga, PO\",\"datacoverage\":1,\"id\":\"CITY:PO000002\"},{\"mindate\":\"1953-01-01\",\"maxdate\":\"2017-12-06\",\"name\":\"Braila, RO\",\"datacoverage\":1,\"id\":\"CITY:RO000007\"},{\"mindate\":\"1889-01-01\",\"maxdate\":\"2017-12-13\",\"name\":\"Brainerd, MN US\",\"datacoverage\":1,\"id\":\"CITY:US270003\"},{\"mindate\":\"1973-08-01\",\"maxdate\":\"2000-03-08\",\"name\":\"Brasilia, BR\",\"datacoverage\":1,\"id\":\"CITY:BR000005\"},{\"mindate\":\"1947-03-01\",\"maxdate\":\"2017-12-06\",\"name\":\"Brazzaville, CF\",\"datacoverage\":0.998,\"id\":\"CITY:CF000001\"},{\"mindate\":\"1890-01-01\",\"maxdate\":\"2017-12-06\",\"name\":\"Bremen, GM\",\"datacoverage\":0.9929,\"id\":\"CITY:GM000003\"},{\"mindate\":\"1949-01-01\",\"maxdate\":\"2007-12-31\",\"name\":\"Bremerhaven, GM\",\"datacoverage\":0.7058,\"id\":\"CITY:GM000004\"},{\"mindate\":\"1894-01-01\",\"maxdate\":\"2017-12-13\",\"name\":\"Bremerton, WA US\",\"datacoverage\":1,\"id\":\"CITY:US530005\"},{\"mindate\":\"1897-01-01\",\"maxdate\":\"2017-12-13\",\"name\":\"Brenham, TX US\",\"datacoverage\":1,\"id\":\"CITY:US480009\"},{\"mindate\":\"1885-08-01\",\"maxdate\":\"2017-12-13\",\"name\":\"Brentwood, NY US\",\"datacoverage\":1,\"id\":\"CITY:US360004\"},{\"mindate\":\"1944-09-01\",\"maxdate\":\"2017-12-06\",\"name\":\"Brest, BO\",\"datacoverage\":1,\"id\":\"CITY:BO000001\"},{\"mindate\":\"1973-01-01\",\"maxdate\":\"2017-12-06\",\"name\":\"Brest, FR\",\"datacoverage\":1,\"id\":\"CITY:FR000005\"},{\"mindate\":\"1884-11-01\",\"maxdate\":\"2017-12-13\",\"name\":\"Bridgeport, CT US\",\"datacoverage\":1,\"id\":\"CITY:US090001\"},{\"mindate\":\"1943-09-17\",\"maxdate\":\"2017-12-06\",\"name\":\"Bridgetown, BB\",\"datacoverage\":1,\"id\":\"CITY:BB000001\"},{\"mindate\":\"1896-02-01\",\"maxdate\":\"2017-12-13\",\"name\":\"Brigham City, UT US\",\"datacoverage\":1,\"id\":\"CITY:US490001\"},{\"mindate\":\"1973-01-01\",\"maxdate\":\"2017-12-06\",\"name\":\"Brikama, GA\",\"datacoverage\":1,\"id\":\"CITY:GA000001\"},{\"mindate\":\"1841-07-01\",\"maxdate\":\"2017-12-06\",\"name\":\"Brisbane, AS\",\"datacoverage\":1,\"id\":\"CITY:AS000002\"},{\"mindate\":\"1888-12-01\",\"maxdate\":\"2017-12-13\",\"name\":\"Bristol, TN US\",\"datacoverage\":1,\"id\":\"CITY:US470001\"},{\"mindate\":\"1939-04-01\",\"maxdate\":\"2017-12-06\",\"name\":\"Brno, EZ\",\"datacoverage\":0.6932,\"id\":\"CITY:EZ000001\"},{\"mindate\":\"1831-02-01\",\"maxdate\":\"2017-12-13\",\"name\":\"Brockton, MA US\",\"datacoverage\":1,\"id\":\"CITY:US250003\"},{\"mindate\":\"1893-01-01\",\"maxdate\":\"2017-12-13\",\"name\":\"Brookings, SD US\",\"datacoverage\":1,\"id\":\"CITY:US460002\"},{\"mindate\":\"1869-01-01\",\"maxdate\":\"2017-12-13\",\"name\":\"Brooklyn, NY US\",\"datacoverage\":1,\"id\":\"CITY:US360005\"},{\"mindate\":\"1928-10-01\",\"maxdate\":\"2017-12-13\",\"name\":\"Brownsville, TX US\",\"datacoverage\":1,\"id\":\"CITY:US480010\"},{\"mindate\":\"1892-02-01\",\"maxdate\":\"2017-12-13\",\"name\":\"Brunswick, GA US\",\"datacoverage\":1,\"id\":\"CITY:US130007\"},{\"mindate\":\"1833-01-01\",\"maxdate\":\"2017-12-06\",\"name\":\"Brussels, BE\",\"datacoverage\":0.9993,\"id\":\"CITY:BE000002\"},{\"mindate\":\"1882-05-01\",\"maxdate\":\"2017-12-13\",\"name\":\"Bryan, TX US\",\"datacoverage\":1,\"id\":\"CITY:US480011\"},{\"mindate\":\"1975-04-01\",\"maxdate\":\"2017-12-06\",\"name\":\"Bucaramanga, CO\",\"datacoverage\":1,\"id\":\"CITY:CO000005\"},{\"mindate\":\"1895-01-01\",\"maxdate\":\"2017-12-06\",\"name\":\"Bucharest, RO\",\"datacoverage\":1,\"id\":\"CITY:RO000009\"},{\"mindate\":\"1973-01-01\",\"maxdate\":\"2017-12-06\",\"name\":\"Budapest, HU\",\"datacoverage\":1,\"id\":\"CITY:HU000002\"},{\"mindate\":\"1908-09-01\",\"maxdate\":\"2017-12-06\",\"name\":\"Buenos Aires, AR\",\"datacoverage\":1,\"id\":\"CITY:AR000002\"},{\"mindate\":\"1940-05-06\",\"maxdate\":\"2017-12-13\",\"name\":\"Buffalo, MN US\",\"datacoverage\":1,\"id\":\"CITY:US270004\"},{\"mindate\":\"1871-01-01\",\"maxdate\":\"2017-12-13\",\"name\":\"Buffalo, NY US\",\"datacoverage\":1,\"id\":\"CITY:US360006\"},{\"mindate\":\"1950-01-01\",\"maxdate\":\"1989-12-31\",\"name\":\"Bujumbura, BY\",\"datacoverage\":1,\"id\":\"CITY:BY000001\"},{\"mindate\":\"1937-01-01\",\"maxdate\":\"2017-12-06\",\"name\":\"Bukhara, UZ\",\"datacoverage\":0.8794,\"id\":\"CITY:UZ000002\"},{\"mindate\":\"1950-01-01\",\"maxdate\":\"1989-12-31\",\"name\":\"Bukoba, TZ\",\"datacoverage\":0.9979,\"id\":\"CITY:TZ000002\"},{\"mindate\":\"1962-07-01\",\"maxdate\":\"1990-02-28\",\"name\":\"Bulawayo, ZI\",\"datacoverage\":1,\"id\":\"CITY:ZI000001\"},{\"mindate\":\"1948-03-01\",\"maxdate\":\"2017-12-13\",\"name\":\"Bullhead City, AZ US\",\"datacoverage\":1,\"id\":\"CITY:US040001\"},{\"mindate\":\"1966-02-01\",\"maxdate\":\"1967-12-31\",\"name\":\"Buon Me Thuot, VM\",\"datacoverage\":1,\"id\":\"CITY:VM000003\"},{\"mindate\":\"1929-01-01\",\"maxdate\":\"2017-12-06\",\"name\":\"Burdur, TU\",\"datacoverage\":1,\"id\":\"CITY:TU000012\"},{\"mindate\":\"1931-09-01\",\"maxdate\":\"2017-12-13\",\"name\":\"Burlington, IA US\",\"datacoverage\":1,\"id\":\"CITY:US190002\"},{\"mindate\":\"1905-01-01\",\"maxdate\":\"2017-12-13\",\"name\":\"Burlington, NC US\",\"datacoverage\":1,\"id\":\"CITY:US370004\"},{\"mindate\":\"1883-12-01\",\"maxdate\":\"2017-12-13\",\"name\":\"Burlington, VT US\",\"datacoverage\":1,\"id\":\"CITY:US500001\"},{\"mindate\":\"1973-01-01\",\"maxdate\":\"2017-12-06\",\"name\":\"Bursa, TU\",\"datacoverage\":1,\"id\":\"CITY:TU000013\"},{\"mindate\":\"1909-03-01\",\"maxdate\":\"2017-12-13\",\"name\":\"Butte, MT US\",\"datacoverage\":1,\"id\":\"CITY:US300003\"},{\"mindate\":\"1896-01-01\",\"maxdate\":\"2017-12-06\",\"name\":\"Buzau, RO\",\"datacoverage\":1,\"id\":\"CITY:RO000010\"},{\"mindate\":\"1891-09-01\",\"maxdate\":\"2017-12-13\",\"name\":\"Cadillac, MI US\",\"datacoverage\":1,\"id\":\"CITY:US260005\"},{\"mindate\":\"1973-01-01\",\"maxdate\":\"2017-12-06\",\"name\":\"Caen, FR\",\"datacoverage\":1,\"id\":\"CITY:FR000006\"},{\"mindate\":\"1943-11-01\",\"maxdate\":\"2017-12-06\",\"name\":\"Cagliari, IT\",\"datacoverage\":1,\"id\":\"CITY:IT000005\"},{\"mindate\":\"1882-06-01\",\"maxdate\":\"2017-12-06\",\"name\":\"Cairns, AS\",\"datacoverage\":1,\"id\":\"CITY:AS000003\"},{\"mindate\":\"1900-01-01\",\"maxdate\":\"1966-12-31\",\"name\":\"Cairo, EG\",\"datacoverage\":1,\"id\":\"CITY:EG000005\"},{\"mindate\":\"1963-01-01\",\"maxdate\":\"2017-12-06\",\"name\":\"Cajamarca, PE\",\"datacoverage\":1,\"id\":\"CITY:PE000004\"},{\"mindate\":\"1898-01-01\",\"maxdate\":\"2009-12-31\",\"name\":\"Calarasi, RO\",\"datacoverage\":1,\"id\":\"CITY:RO000011\"},{\"mindate\":\"1881-10-01\",\"maxdate\":\"2017-12-10\",\"name\":\"Calgary, CA\",\"datacoverage\":1,\"id\":\"CITY:CA000001\"},{\"mindate\":\"1961-01-01\",\"maxdate\":\"2017-12-06\",\"name\":\"Cali, CO\",\"datacoverage\":0.9528,\"id\":\"CITY:CO000006\"},{\"mindate\":\"1963-01-01\",\"maxdate\":\"2015-11-18\",\"name\":\"Callao, PE\",\"datacoverage\":0.9991,\"id\":\"CITY:PE000005\"},{\"mindate\":\"1942-07-01\",\"maxdate\":\"2016-10-07\",\"name\":\"Camaguey, CU\",\"datacoverage\":1,\"id\":\"CITY:CU000001\"},{\"mindate\":\"1893-01-01\",\"maxdate\":\"2017-12-13\",\"name\":\"Cambridge, MD US\",\"datacoverage\":1,\"id\":\"CITY:US240003\"},{\"mindate\":\"1893-01-01\",\"maxdate\":\"2017-12-13\",\"name\":\"Cambridge, OH US\",\"datacoverage\":1,\"id\":\"CITY:US390006\"},{\"mindate\":\"1886-01-01\",\"maxdate\":\"2017-12-13\",\"name\":\"Camden, AR US\",\"datacoverage\":1,\"id\":\"CITY:US050003\"},{\"mindate\":\"1889-01-01\",\"maxdate\":\"2017-12-13\",\"name\":\"Campbellsville, KY US\",\"datacoverage\":1,\"id\":\"CITY:US210002\"},{\"mindate\":\"1975-04-21\",\"maxdate\":\"2017-12-06\",\"name\":\"Campeche, MX\",\"datacoverage\":0.9748,\"id\":\"CITY:MX000003\"},{\"mindate\":\"1963-01-01\",\"maxdate\":\"2000-01-31\",\"name\":\"Campo Grande, BR\",\"datacoverage\":0.9991,\"id\":\"CITY:BR000006\"},{\"mindate\":\"1965-05-01\",\"maxdate\":\"2017-12-06\",\"name\":\"Campobasso, IT\",\"datacoverage\":0.9435,\"id\":\"CITY:IT000006\"},{\"mindate\":\"1963-05-01\",\"maxdate\":\"1967-12-31\",\"name\":\"Can Tho, VM\",\"datacoverage\":1,\"id\":\"CITY:VM000004\"},{\"mindate\":\"1963-01-01\",\"maxdate\":\"2017-12-06\",\"name\":\"Canakkale, TU\",\"datacoverage\":0.9179,\"id\":\"CITY:TU000014\"},{\"mindate\":\"1870-10-01\",\"maxdate\":\"2017-12-06\",\"name\":\"Canberra, AS\",\"datacoverage\":1,\"id\":\"CITY:AS000004\"},{\"mindate\":\"2007-01-01\",\"maxdate\":\"2017-12-06\",\"name\":\"Cankiri, TU\",\"datacoverage\":1,\"id\":\"CITY:TU000015\"},{\"mindate\":\"1893-03-01\",\"maxdate\":\"2017-12-13\",\"name\":\"Canon City, CO US\",\"datacoverage\":1,\"id\":\"CITY:US080002\"},{\"mindate\":\"1893-01-01\",\"maxdate\":\"2017-12-13\",\"name\":\"Canton, OH US\",\"datacoverage\":1,\"id\":\"CITY:US390007\"},{\"mindate\":\"1892-01-01\",\"maxdate\":\"2017-12-13\",\"name\":\"Cape Coral, FL US\",\"datacoverage\":1,\"id\":\"CITY:US120005\"},{\"mindate\":\"1893-01-01\",\"maxdate\":\"2017-12-13\",\"name\":\"Cape Girardeau, MO US\",\"datacoverage\":1,\"id\":\"CITY:US290001\"},{\"mindate\":\"1850-01-01\",\"maxdate\":\"2017-12-06\",\"name\":\"Cape Town, SF\",\"datacoverage\":1,\"id\":\"CITY:SF000003\"},{\"mindate\":\"1950-01-01\",\"maxdate\":\"2017-12-06\",\"name\":\"Caracas, VE\",\"datacoverage\":1,\"id\":\"CITY:VE000003\"},{\"mindate\":\"1893-06-01\",\"maxdate\":\"2017-12-13\",\"name\":\"Carbondale, IL US\",\"datacoverage\":1,\"id\":\"CITY:US170003\"},{\"mindate\":\"1900-02-01\",\"maxdate\":\"2017-12-13\",\"name\":\"Carlsbad, NM US\",\"datacoverage\":1,\"id\":\"CITY:US350003\"},{\"mindate\":\"1893-01-01\",\"maxdate\":\"2017-12-13\",\"name\":\"Carroll, IA US\",\"datacoverage\":1,\"id\":\"CITY:US190003\"},{\"mindate\":\"1893-03-01\",\"maxdate\":\"2017-12-13\",\"name\":\"Carrollton, GA US\",\"datacoverage\":1,\"id\":\"CITY:US130008\"},{\"mindate\":\"1887-12-01\",\"maxdate\":\"2017-12-13\",\"name\":\"Carson City, NV US\",\"datacoverage\":1,\"id\":\"CITY:US320002\"},{\"mindate\":\"1963-11-01\",\"maxdate\":\"2017-12-06\",\"name\":\"Cartagena, CO\",\"datacoverage\":1,\"id\":\"CITY:CO000007\"},{\"mindate\":\"1898-06-01\",\"maxdate\":\"2017-12-13\",\"name\":\"Casa Grande, AZ US\",\"datacoverage\":1,\"id\":\"CITY:US040002\"},{\"mindate\":\"1942-11-21\",\"maxdate\":\"2017-12-06\",\"name\":\"Casablanca, MO\",\"datacoverage\":1,\"id\":\"CITY:MO000002\"},{\"mindate\":\"1900-11-01\",\"maxdate\":\"2017-12-13\",\"name\":\"Casper, WY US\",\"datacoverage\":1,\"id\":\"CITY:US560001\"},{\"mindate\":\"1973-07-01\",\"maxdate\":\"2017-12-06\",\"name\":\"Catamarca, AR\",\"datacoverage\":0.9973,\"id\":\"CITY:AR000003\"},{\"mindate\":\"1943-06-01\",\"maxdate\":\"2017-12-06\",\"name\":\"Cayenne, FG\",\"datacoverage\":1,\"id\":\"CITY:FG000001\"},{\"mindate\":\"1958-01-01\",\"maxdate\":\"1996-12-31\",\"name\":\"Ceboksary, RS\",\"datacoverage\":0.8889,\"id\":\"CITY:RS000008\"},{\"mindate\":\"1905-11-01\",\"maxdate\":\"2017-12-13\",\"name\":\"Cedar City, UT US\",\"datacoverage\":1,\"id\":\"CITY:US490002\"},{\"mindate\":\"1893-01-01\",\"maxdate\":\"2017-12-13\",\"name\":\"Cedar Falls, IA US\",\"datacoverage\":1,\"id\":\"CITY:US190004\"},{\"mindate\":\"1892-01-01\",\"maxdate\":\"2017-12-13\",\"name\":\"Cedar Rapids, IA US\",\"datacoverage\":1,\"id\":\"CITY:US190005\"},{\"mindate\":\"1893-01-01\",\"maxdate\":\"2017-12-13\",\"name\":\"Centralia, WA US\",\"datacoverage\":1,\"id\":\"CITY:US530006\"},{\"mindate\":\"1893-01-01\",\"maxdate\":\"2017-12-13\",\"name\":\"Centreville, VA US\",\"datacoverage\":1,\"id\":\"CITY:US510004\"},{\"mindate\":\"1935-01-01\",\"maxdate\":\"2017-12-06\",\"name\":\"Ceuta, SP\",\"datacoverage\":1,\"id\":\"CITY:SP000003\"},{\"mindate\":\"1951-04-01\",\"maxdate\":\"2017-12-13\",\"name\":\"Ch'unch'on, KS\",\"datacoverage\":1,\"id\":\"CITY:KS000001\"},{\"mindate\":\"1951-02-01\",\"maxdate\":\"2017-12-13\",\"name\":\"Ch'ungju, KS\",\"datacoverage\":1,\"id\":\"CITY:KS000002\"},{\"mindate\":\"1894-01-01\",\"maxdate\":\"2017-12-13\",\"name\":\"Chambersburg, PA US\",\"datacoverage\":1,\"id\":\"CITY:US420005\"},{\"mindate\":\"1888-08-17\",\"maxdate\":\"2017-12-13\",\"name\":\"Champaign, IL US\",\"datacoverage\":1,\"id\":\"CITY:US170004\"},{\"mindate\":\"1901-01-01\",\"maxdate\":\"2017-12-06\",\"name\":\"Chandigarh, IN\",\"datacoverage\":1,\"id\":\"CITY:IN000008\"},{\"mindate\":\"1951-01-01\",\"maxdate\":\"2017-12-06\",\"name\":\"Chang Rai, TH\",\"datacoverage\":1,\"id\":\"CITY:TH000003\"},{\"mindate\":\"1951-01-01\",\"maxdate\":\"2017-12-06\",\"name\":\"Changchun, CH\",\"datacoverage\":1,\"id\":\"CITY:CH000004\"},{\"mindate\":\"1944-02-15\",\"maxdate\":\"2017-12-06\",\"name\":\"Changsha, CH\",\"datacoverage\":1,\"id\":\"CITY:CH000005\"},{\"mindate\":\"1951-01-01\",\"maxdate\":\"2017-12-06\",\"name\":\"Chanthaburi, TH\",\"datacoverage\":1,\"id\":\"CITY:TH000004\"},{\"mindate\":\"1893-01-01\",\"maxdate\":\"2017-12-13\",\"name\":\"Charleston, IL US\",\"datacoverage\":1,\"id\":\"CITY:US170005\"},{\"mindate\":\"1893-01-01\",\"maxdate\":\"2017-12-13\",\"name\":\"Charleston, SC US\",\"datacoverage\":1,\"id\":\"CITY:US450001\"},{\"mindate\":\"1892-04-01\",\"maxdate\":\"2017-12-13\",\"name\":\"Charleston, WV US\",\"datacoverage\":1,\"id\":\"CITY:US540003\"},{\"mindate\":\"1885-10-01\",\"maxdate\":\"2017-12-13\",\"name\":\"Charlotte, NC US\",\"datacoverage\":1,\"id\":\"CITY:US370005\"},{\"mindate\":\"1893-01-01\",\"maxdate\":\"2017-12-13\",\"name\":\"Charlottesville, VA US\",\"datacoverage\":1,\"id\":\"CITY:US510005\"},{\"mindate\":\"1879-01-01\",\"maxdate\":\"2017-12-13\",\"name\":\"Chattanooga, TN US\",\"datacoverage\":1,\"id\":\"CITY:US470002\"},{\"mindate\":\"1951-01-31\",\"maxdate\":\"2017-12-06\",\"name\":\"Cheju, KS\",\"datacoverage\":1,\"id\":\"CITY:KS000003\"},{\"mindate\":\"1896-07-01\",\"maxdate\":\"2017-12-06\",\"name\":\"Chelyabinsk, RS\",\"datacoverage\":0.9819,\"id\":\"CITY:RS000009\"},{\"mindate\":\"1951-01-01\",\"maxdate\":\"2017-12-06\",\"name\":\"Chengdu, CH\",\"datacoverage\":1,\"id\":\"CITY:CH000006\"},{\"mindate\":\"1901-01-01\",\"maxdate\":\"2017-12-06\",\"name\":\"Chennai, IN\",\"datacoverage\":1,\"id\":\"CITY:IN000009\"},{\"mindate\":\"1936-01-01\",\"maxdate\":\"2009-06-17\",\"name\":\"Cherkasy, UP\",\"datacoverage\":1,\"id\":\"CITY:UP000001\"},{\"mindate\":\"1936-01-01\",\"maxdate\":\"2009-06-17\",\"name\":\"Chernihiv, UP\",\"datacoverage\":0.9819,\"id\":\"CITY:UP000002\"},{\"mindate\":\"1941-03-01\",\"maxdate\":\"2017-12-06\",\"name\":\"Chernivtsi, UP\",\"datacoverage\":0.96,\"id\":\"CITY:UP000003\"},{\"mindate\":\"1909-02-11\",\"maxdate\":\"2017-12-13\",\"name\":\"Chesapeake, VA US\",\"datacoverage\":1,\"id\":\"CITY:US510006\"},{\"mindate\":\"1893-01-01\",\"maxdate\":\"2017-12-13\",\"name\":\"Chester, PA US\",\"datacoverage\":1,\"id\":\"CITY:US420006\"},{\"mindate\":\"1973-01-01\",\"maxdate\":\"2017-12-06\",\"name\":\"Chetumal, MX\",\"datacoverage\":0.9829,\"id\":\"CITY:MX000004\"},{\"mindate\":\"1905-05-01\",\"maxdate\":\"2017-12-13\",\"name\":\"Cheyenne, WY US\",\"datacoverage\":1,\"id\":\"CITY:US560002\"},{\"mindate\":\"1943-01-01\",\"maxdate\":\"2017-12-06\",\"name\":\"Chiang Mai, TH\",\"datacoverage\":0.9993,\"id\":\"CITY:TH000005\"},{\"mindate\":\"1870-10-15\",\"maxdate\":\"2017-12-13\",\"name\":\"Chicago, IL US\",\"datacoverage\":1,\"id\":\"CITY:US170006\"},{\"mindate\":\"1901-01-01\",\"maxdate\":\"2017-12-13\",\"name\":\"Chickasha, OK US\",\"datacoverage\":1,\"id\":\"CITY:US400005\"},{\"mindate\":\"1963-01-01\",\"maxdate\":\"2017-12-06\",\"name\":\"Chiclayo, PE\",\"datacoverage\":0.9819,\"id\":\"CITY:PE000007\"},{\"mindate\":\"1906-01-01\",\"maxdate\":\"2017-12-13\",\"name\":\"Chico, CA US\",\"datacoverage\":1,\"id\":\"CITY:US060005\"},{\"mindate\":\"1952-03-01\",\"maxdate\":\"2017-12-06\",\"name\":\"Chihuahua, MX\",\"datacoverage\":1,\"id\":\"CITY:MX000005\"},{\"mindate\":\"1893-01-01\",\"maxdate\":\"2017-12-13\",\"name\":\"Chillicothe, OH US\",\"datacoverage\":1,\"id\":\"CITY:US390008\"},{\"mindate\":\"1975-04-03\",\"maxdate\":\"2017-12-06\",\"name\":\"Chilpancingo De Los Bravo, MX\",\"datacoverage\":1,\"id\":\"CITY:MX000006\"},{\"mindate\":\"1951-01-01\",\"maxdate\":\"2017-12-06\",\"name\":\"Chimoio, MZ\",\"datacoverage\":0.9451,\"id\":\"CITY:MZ000002\"},{\"mindate\":\"1945-04-01\",\"maxdate\":\"1945-11-30\",\"name\":\"Chinandega, NU\",\"datacoverage\":1,\"id\":\"CITY:NU000001\"},{\"mindate\":\"1950-01-01\",\"maxdate\":\"2014-03-11\",\"name\":\"Chipata, ZA\",\"datacoverage\":1,\"id\":\"CITY:ZA000001\"},{\"mindate\":\"1886-11-01\",\"maxdate\":\"2017-12-06\",\"name\":\"Chisinau, MD\",\"datacoverage\":0.9968,\"id\":\"CITY:MD000001\"},{\"mindate\":\"1890-05-01\",\"maxdate\":\"2017-12-06\",\"name\":\"Chita, RS\",\"datacoverage\":1,\"id\":\"CITY:RS000011\"},{\"mindate\":\"1982-01-01\",\"maxdate\":\"2017-12-06\",\"name\":\"Chittagong, BG\",\"datacoverage\":1,\"id\":\"CITY:BG000002\"},{\"mindate\":\"1951-01-01\",\"maxdate\":\"2017-12-06\",\"name\":\"Chon Buri, TH\",\"datacoverage\":0.9949,\"id\":\"CITY:TH000006\"},{\"mindate\":\"1944-11-11\",\"maxdate\":\"2017-12-06\",\"name\":\"Chongqing, CH\",\"datacoverage\":1,\"id\":\"CITY:CH000007\"},{\"mindate\":\"1951-04-01\",\"maxdate\":\"2017-12-13\",\"name\":\"Chonju, KS\",\"datacoverage\":1,\"id\":\"CITY:KS000004\"},{\"mindate\":\"1954-03-02\",\"maxdate\":\"2017-12-06\",\"name\":\"Christchurch, NZ\",\"datacoverage\":1,\"id\":\"CITY:NZ000002\"},{\"mindate\":\"1951-01-01\",\"maxdate\":\"2017-12-06\",\"name\":\"Chumphon, TH\",\"datacoverage\":1,\"id\":\"CITY:TH000007\"},{\"mindate\":\"1893-01-01\",\"maxdate\":\"2017-12-13\",\"name\":\"Cincinnati, OH US\",\"datacoverage\":1,\"id\":\"CITY:US390009\"},{\"mindate\":\"1892-07-01\",\"maxdate\":\"2017-12-13\",\"name\":\"City of The Dalles, OR US\",\"datacoverage\":1,\"id\":\"CITY:US410002\"},{\"mindate\":\"1973-05-01\",\"maxdate\":\"2016-03-28\",\"name\":\"Ciudad Bolivar, VE\",\"datacoverage\":0.7883,\"id\":\"CITY:VE000004\"},{\"mindate\":\"1942-01-01\",\"maxdate\":\"2017-12-06\",\"name\":\"Ciudad Victoria, MX\",\"datacoverage\":1,\"id\":\"CITY:MX000007\"},{\"mindate\":\"1893-01-01\",\"maxdate\":\"2017-12-13\",\"name\":\"Claremont, NH US\",\"datacoverage\":1,\"id\":\"CITY:US330002\"},{\"mindate\":\"1892-11-01\",\"maxdate\":\"2017-12-13\",\"name\":\"Clarksdale, MS US\",\"datacoverage\":1,\"id\":\"CITY:US280002\"},{\"mindate\":\"1890-05-01\",\"maxdate\":\"2017-12-13\",\"name\":\"Clarksville, TN US\",\"datacoverage\":1,\"id\":\"CITY:US470003\"},{\"mindate\":\"1911-07-01\",\"maxdate\":\"2017-12-13\",\"name\":\"Clearlake, CA US\",\"datacoverage\":1,\"id\":\"CITY:US060006\"},{\"mindate\":\"1896-07-01\",\"maxdate\":\"2017-12-13\",\"name\":\"Clemson, SC US\",\"datacoverage\":1,\"id\":\"CITY:US450002\"},{\"mindate\":\"1973-01-01\",\"maxdate\":\"2017-12-06\",\"name\":\"Clermont-Ferrand, FR\",\"datacoverage\":1,\"id\":\"CITY:FR000007\"},{\"mindate\":\"1901-02-01\",\"maxdate\":\"2017-12-13\",\"name\":\"Cleveland, MS US\",\"datacoverage\":1,\"id\":\"CITY:US280003\"},{\"mindate\":\"1893-01-01\",\"maxdate\":\"2017-12-13\",\"name\":\"Cleveland, OH US\",\"datacoverage\":1,\"id\":\"CITY:US390010\"},{\"mindate\":\"1893-01-01\",\"maxdate\":\"2017-12-13\",\"name\":\"Clinton, IA US\",\"datacoverage\":1,\"id\":\"CITY:US190006\"},{\"mindate\":\"1911-06-14\",\"maxdate\":\"2017-12-13\",\"name\":\"Clovis, NM US\",\"datacoverage\":1,\"id\":\"CITY:US350004\"},{\"mindate\":\"1921-03-01\",\"maxdate\":\"2017-12-06\",\"name\":\"Cluj-Napoca, RO\",\"datacoverage\":1,\"id\":\"CITY:RO000012\"},{\"mindate\":\"1911-09-01\",\"maxdate\":\"2017-12-13\",\"name\":\"Coalinga, CA US\",\"datacoverage\":1,\"id\":\"CITY:US060007\"},{\"mindate\":\"1973-01-01\",\"maxdate\":\"2017-12-06\",\"name\":\"Cochabamba, BL\",\"datacoverage\":0.9852,\"id\":\"CITY:BL000001\"},{\"mindate\":\"1901-01-01\",\"maxdate\":\"1970-12-31\",\"name\":\"Cochin, IN\",\"datacoverage\":1,\"id\":\"CITY:IN000010\"},{\"mindate\":\"1893-01-01\",\"maxdate\":\"2017-12-13\",\"name\":\"Cocoa, FL US\",\"datacoverage\":1,\"id\":\"CITY:US120006\"},{\"mindate\":\"1895-09-01\",\"maxdate\":\"2017-12-13\",\"name\":\"Coeur d'Alene, ID US\",\"datacoverage\":1,\"id\":\"CITY:US160002\"},{\"mindate\":\"1893-01-01\",\"maxdate\":\"2017-12-13\",\"name\":\"Coffeyville, KS US\",\"datacoverage\":1,\"id\":\"CITY:US200001\"},{\"mindate\":\"1900-12-01\",\"maxdate\":\"2017-12-06\",\"name\":\"Coimbra, PO\",\"datacoverage\":1,\"id\":\"CITY:PO000003\"},{\"mindate\":\"1973-01-01\",\"maxdate\":\"2017-12-06\",\"name\":\"Colima, MX\",\"datacoverage\":0.877,\"id\":\"CITY:MX000008\"},{\"mindate\":\"1882-05-01\",\"maxdate\":\"2017-12-13\",\"name\":\"College Station, TX US\",\"datacoverage\":1,\"id\":\"CITY:US480012\"},{\"mindate\":\"1931-04-01\",\"maxdate\":\"2017-12-06\",\"name\":\"Cologne, GM\",\"datacoverage\":1,\"id\":\"CITY:GM000005\"},{\"mindate\":\"1956-01-01\",\"maxdate\":\"2017-12-06\",\"name\":\"Colombo, CE\",\"datacoverage\":1,\"id\":\"CITY:CE000002\"},{\"mindate\":\"1945-04-01\",\"maxdate\":\"1957-07-18\",\"name\":\"Colon, PM\",\"datacoverage\":1,\"id\":\"CITY:PM000001\"},{\"mindate\":\"1894-05-01\",\"maxdate\":\"2017-12-13\",\"name\":\"Colorado Springs, CO US\",\"datacoverage\":1,\"id\":\"CITY:US080003\"},{\"mindate\":\"1893-01-01\",\"maxdate\":\"2017-12-13\",\"name\":\"Columbia, MO US\",\"datacoverage\":1,\"id\":\"CITY:US290002\"},{\"mindate\":\"1892-01-01\",\"maxdate\":\"2017-12-13\",\"name\":\"Columbia, SC US\",\"datacoverage\":1,\"id\":\"CITY:US450003\"},{\"mindate\":\"1890-05-01\",\"maxdate\":\"2017-12-13\",\"name\":\"Columbia, TN US\",\"datacoverage\":1,\"id\":\"CITY:US470004\"},{\"mindate\":\"1891-10-01\",\"maxdate\":\"2017-12-13\",\"name\":\"Columbus, GA US\",\"datacoverage\":1,\"id\":\"CITY:US130009\"},{\"mindate\":\"1891-05-01\",\"maxdate\":\"2017-12-13\",\"name\":\"Columbus, MS US\",\"datacoverage\":1,\"id\":\"CITY:US280004\"},{\"mindate\":\"1893-07-01\",\"maxdate\":\"2017-12-13\",\"name\":\"Columbus, NE US\",\"datacoverage\":1,\"id\":\"CITY:US310002\"},{\"mindate\":\"1897-04-15\",\"maxdate\":\"2017-12-13\",\"name\":\"Columbus, OH US\",\"datacoverage\":1,\"id\":\"CITY:US390011\"},{\"mindate\":\"1885-08-01\",\"maxdate\":\"2017-12-13\",\"name\":\"Commack, NY US\",\"datacoverage\":1,\"id\":\"CITY:US360007\"},{\"mindate\":\"1956-02-01\",\"maxdate\":\"2017-12-06\",\"name\":\"Comodoro Rivadavia, AR\",\"datacoverage\":0.9987,\"id\":\"CITY:AR000004\"},{\"mindate\":\"1940-01-01\",\"maxdate\":\"2017-12-06\",\"name\":\"Conakry, GV\",\"datacoverage\":0.9912,\"id\":\"CITY:GV000001\"},{\"mindate\":\"1973-01-01\",\"maxdate\":\"2017-12-06\",\"name\":\"Concepcion, CI\",\"datacoverage\":1,\"id\":\"CITY:CI000002\"},{\"mindate\":\"1868-01-01\",\"maxdate\":\"2017-12-13\",\"name\":\"Concord, NH US\",\"datacoverage\":1,\"id\":\"CITY:US330003\"},{\"mindate\":\"1897-08-16\",\"maxdate\":\"2017-12-13\",\"name\":\"Conroe, TX US\",\"datacoverage\":1,\"id\":\"CITY:US480013\"},{\"mindate\":\"1952-01-01\",\"maxdate\":\"2017-12-06\",\"name\":\"Constanta, RO\",\"datacoverage\":1,\"id\":\"CITY:RO000013\"},{\"mindate\":\"1880-05-01\",\"maxdate\":\"2017-12-06\",\"name\":\"Constantine, AG\",\"datacoverage\":1,\"id\":\"CITY:AG000006\"},{\"mindate\":\"1890-08-01\",\"maxdate\":\"2017-12-13\",\"name\":\"Conway, AR US\",\"datacoverage\":1,\"id\":\"CITY:US050004\"},{\"mindate\":\"1904-04-01\",\"maxdate\":\"2017-12-13\",\"name\":\"Cookeville, TN US\",\"datacoverage\":1,\"id\":\"CITY:US470005\"},{\"mindate\":\"1897-08-01\",\"maxdate\":\"2017-12-13\",\"name\":\"Coos Bay, OR US\",\"datacoverage\":1,\"id\":\"CITY:US410003\"},{\"mindate\":\"1873-12-01\",\"maxdate\":\"2017-10-03\",\"name\":\"Copenhagen, DA\",\"datacoverage\":1,\"id\":\"CITY:DA000003\"},{\"mindate\":\"1964-07-01\",\"maxdate\":\"2005-01-31\",\"name\":\"Copiapo, CI\",\"datacoverage\":1,\"id\":\"CITY:CI000003\"},{\"mindate\":\"1957-07-01\",\"maxdate\":\"2017-12-06\",\"name\":\"Coquimbo, CI\",\"datacoverage\":0.8496,\"id\":\"CITY:CI000004\"},{\"mindate\":\"1897-04-01\",\"maxdate\":\"2017-12-13\",\"name\":\"Coral Springs, FL US\",\"datacoverage\":1,\"id\":\"CITY:US120007\"},{\"mindate\":\"1885-08-01\",\"maxdate\":\"2017-12-13\",\"name\":\"Coram, NY US\",\"datacoverage\":1,\"id\":\"CITY:US360008\"},{\"mindate\":\"1956-02-01\",\"maxdate\":\"2017-12-06\",\"name\":\"Cordoba, AR\",\"datacoverage\":1,\"id\":\"CITY:AR000005\"},{\"mindate\":\"1895-08-01\",\"maxdate\":\"2017-12-13\",\"name\":\"Corinth, MS US\",\"datacoverage\":1,\"id\":\"CITY:US280005\"},{\"mindate\":\"1973-01-01\",\"maxdate\":\"2017-12-06\",\"name\":\"Cork, EI\",\"datacoverage\":0.9924,\"id\":\"CITY:EI000001\"},{\"mindate\":\"1959-01-01\",\"maxdate\":\"2016-10-15\",\"name\":\"Coro, VE\",\"datacoverage\":0.8993,\"id\":\"CITY:VE000005\"},{\"mindate\":\"2002-04-01\",\"maxdate\":\"2017-12-06\",\"name\":\"Coronel Oviedo, PA\",\"datacoverage\":1,\"id\":\"CITY:PA000002\"},{\"mindate\":\"1893-01-01\",\"maxdate\":\"2017-12-13\",\"name\":\"Corpus Christi, TX US\",\"datacoverage\":1,\"id\":\"CITY:US480014\"},{\"mindate\":\"1960-01-01\",\"maxdate\":\"2017-12-06\",\"name\":\"Corrientes, AR\",\"datacoverage\":0.9973,\"id\":\"CITY:AR000006\"},{\"mindate\":\"1893-01-01\",\"maxdate\":\"2017-12-13\",\"name\":\"Corsicana, TX US\",\"datacoverage\":1,\"id\":\"CITY:US480015\"},{\"mindate\":\"1973-01-01\",\"maxdate\":\"2017-12-06\",\"name\":\"Corum, TU\",\"datacoverage\":0.9991,\"id\":\"CITY:TU000016\"},{\"mindate\":\"1893-01-01\",\"maxdate\":\"2017-12-13\",\"name\":\"Corvallis, OR US\",\"datacoverage\":1,\"id\":\"CITY:US410004\"},{\"mindate\":\"1941-01-01\",\"maxdate\":\"2017-12-06\",\"name\":\"Cotonou, BN\",\"datacoverage\":0.9823,\"id\":\"CITY:BN000002\"},{\"mindate\":\"1961-01-01\",\"maxdate\":\"2017-12-06\",\"name\":\"Craiova, RO\",\"datacoverage\":1,\"id\":\"CITY:RO000014\"},{\"mindate\":\"1910-01-01\",\"maxdate\":\"2017-12-13\",\"name\":\"Crestview, FL US\",\"datacoverage\":1,\"id\":\"CITY:US120008\"},{\"mindate\":\"1893-01-01\",\"maxdate\":\"2017-12-13\",\"name\":\"Crystal Lake, IL US\",\"datacoverage\":1,\"id\":\"CITY:US170007\"},{\"mindate\":\"1964-09-01\",\"maxdate\":\"2017-12-06\",\"name\":\"Cucuta, CO\",\"datacoverage\":1,\"id\":\"CITY:CO000008\"},{\"mindate\":\"1955-04-01\",\"maxdate\":\"2017-12-06\",\"name\":\"Cuernavaca, MX\",\"datacoverage\":1,\"id\":\"CITY:MX000009\"},{\"mindate\":\"1968-07-01\",\"maxdate\":\"2000-07-31\",\"name\":\"Cuiaba, BR\",\"datacoverage\":1,\"id\":\"CITY:BR000007\"},{\"mindate\":\"1944-08-01\",\"maxdate\":\"2017-12-06\",\"name\":\"Culiacan, MX\",\"datacoverage\":1,\"id\":\"CITY:MX000010\"},{\"mindate\":\"1907-08-01\",\"maxdate\":\"2017-12-13\",\"name\":\"Cullman, AL US\",\"datacoverage\":1,\"id\":\"CITY:US010005\"},{\"mindate\":\"1984-07-01\",\"maxdate\":\"2016-10-06\",\"name\":\"Cumana, VE\",\"datacoverage\":0.8871,\"id\":\"CITY:VE000006\"},{\"mindate\":\"1891-07-01\",\"maxdate\":\"2017-12-13\",\"name\":\"Cumberland, MD US\",\"datacoverage\":1,\"id\":\"CITY:US240004\"},{\"mindate\":\"1939-07-01\",\"maxdate\":\"2017-12-06\",\"name\":\"Curitiba, BR\",\"datacoverage\":1,\"id\":\"CITY:BR000008\"},{\"mindate\":\"1963-01-01\",\"maxdate\":\"2017-12-06\",\"name\":\"Cuzco, PE\",\"datacoverage\":1,\"id\":\"CITY:PE000009\"},{\"mindate\":\"1966-10-01\",\"maxdate\":\"1967-12-31\",\"name\":\"Da Lat, VM\",\"datacoverage\":1,\"id\":\"CITY:VM000005\"},{\"mindate\":\"1957-01-01\",\"maxdate\":\"2017-12-06\",\"name\":\"Da Nang, VM\",\"datacoverage\":1,\"id\":\"CITY:VM000006\"},{\"mindate\":\"1940-06-01\",\"maxdate\":\"2017-12-06\",\"name\":\"Dakar, SG\",\"datacoverage\":1,\"id\":\"CITY:SG000001\"},{\"mindate\":\"1951-01-01\",\"maxdate\":\"2017-12-06\",\"name\":\"Dalian, CH\",\"datacoverage\":1,\"id\":\"CITY:CH000008\"},{\"mindate\":\"1893-01-01\",\"maxdate\":\"2017-12-13\",\"name\":\"Dallas, TX US\",\"datacoverage\":1,\"id\":\"CITY:US480016\"},{\"mindate\":\"1978-07-01\",\"maxdate\":\"2017-12-06\",\"name\":\"Daloa, IV\",\"datacoverage\":1,\"id\":\"CITY:IV000008\"},{\"mindate\":\"1891-09-01\",\"maxdate\":\"2017-12-13\",\"name\":\"Dalton, GA US\",\"datacoverage\":1,\"id\":\"CITY:US130010\"},{\"mindate\":\"1928-09-01\",\"maxdate\":\"2017-12-06\",\"name\":\"Damascus, SY\",\"datacoverage\":1,\"id\":\"CITY:SY000004\"},{\"mindate\":\"1888-01-01\",\"maxdate\":\"2017-12-13\",\"name\":\"Danbury, CT US\",\"datacoverage\":1,\"id\":\"CITY:US090002\"},{\"mindate\":\"1895-04-01\",\"maxdate\":\"2017-12-13\",\"name\":\"Danville, IL US\",\"datacoverage\":1,\"id\":\"CITY:US170008\"},{\"mindate\":\"1893-01-01\",\"maxdate\":\"2017-12-13\",\"name\":\"Danville, KY US\",\"datacoverage\":1,\"id\":\"CITY:US210003\"},{\"mindate\":\"1891-04-01\",\"maxdate\":\"2017-12-13\",\"name\":\"Danville, VA US\",\"datacoverage\":1,\"id\":\"CITY:US510007\"},{\"mindate\":\"1957-01-01\",\"maxdate\":\"2017-12-06\",\"name\":\"Dar es Salaam, TZ\",\"datacoverage\":0.9994,\"id\":\"CITY:TZ000003\"},{\"mindate\":\"1928-01-01\",\"maxdate\":\"2011-02-18\",\"name\":\"Darnah, LY\",\"datacoverage\":1,\"id\":\"CITY:LY000004\"},{\"mindate\":\"1869-03-01\",\"maxdate\":\"2017-12-06\",\"name\":\"Darwin, AS\",\"datacoverage\":1,\"id\":\"CITY:AS000005\"},{\"mindate\":\"1893-05-01\",\"maxdate\":\"2017-12-13\",\"name\":\"Davenport, IA US\",\"datacoverage\":1,\"id\":\"CITY:US190007\"},{\"mindate\":\"1957-06-01\",\"maxdate\":\"2012-07-24\",\"name\":\"Dayr az Zawr, SY\",\"datacoverage\":1,\"id\":\"CITY:SY000005\"},{\"mindate\":\"1893-01-01\",\"maxdate\":\"2017-12-13\",\"name\":\"Dayton, OH US\",\"datacoverage\":1,\"id\":\"CITY:US390012\"},{\"mindate\":\"1892-11-01\",\"maxdate\":\"2017-12-13\",\"name\":\"Daytona Beach, FL US\",\"datacoverage\":1,\"id\":\"CITY:US120009\"},{\"mindate\":\"1893-01-01\",\"maxdate\":\"2017-12-13\",\"name\":\"DeKalb, IL US\",\"datacoverage\":1,\"id\":\"CITY:US170009\"},{\"mindate\":\"1953-11-01\",\"maxdate\":\"1987-12-31\",\"name\":\"Debre Markos, ET\",\"datacoverage\":0.9976,\"id\":\"CITY:ET000004\"},{\"mindate\":\"1952-01-01\",\"maxdate\":\"2017-12-06\",\"name\":\"Debrecen, HU\",\"datacoverage\":0.7717,\"id\":\"CITY:HU000003\"},{\"mindate\":\"1893-01-01\",\"maxdate\":\"2017-12-13\",\"name\":\"Decatur, IL US\",\"datacoverage\":1,\"id\":\"CITY:US170010\"},{\"mindate\":\"1893-01-01\",\"maxdate\":\"2017-12-13\",\"name\":\"Defiance, OH US\",\"datacoverage\":1,\"id\":\"CITY:US390013\"},{\"mindate\":\"1923-01-01\",\"maxdate\":\"2017-12-13\",\"name\":\"Del Rio, TX US\",\"datacoverage\":1,\"id\":\"CITY:US480017\"},{\"mindate\":\"1894-09-01\",\"maxdate\":\"2017-12-13\",\"name\":\"Delaware, OH US\",\"datacoverage\":1,\"id\":\"CITY:US390014\"},{\"mindate\":\"1901-01-01\",\"maxdate\":\"2017-12-06\",\"name\":\"Delhi, IN\",\"datacoverage\":1,\"id\":\"CITY:IN000011\"},{\"mindate\":\"1895-10-01\",\"maxdate\":\"2017-12-13\",\"name\":\"Deltona, FL US\",\"datacoverage\":1,\"id\":\"CITY:US120010\"},{\"mindate\":\"1892-10-01\",\"maxdate\":\"2017-12-13\",\"name\":\"Deming, NM US\",\"datacoverage\":1,\"id\":\"CITY:US350005\"},{\"mindate\":\"1973-01-01\",\"maxdate\":\"2017-12-06\",\"name\":\"Denizli, TU\",\"datacoverage\":0.9989,\"id\":\"CITY:TU000017\"},{\"mindate\":\"1962-10-06\",\"maxdate\":\"2017-12-06\",\"name\":\"Denpasar, ID\",\"datacoverage\":0.9973,\"id\":\"CITY:ID000007\"},{\"mindate\":\"1913-06-01\",\"maxdate\":\"2017-12-13\",\"name\":\"Denton, TX US\",\"datacoverage\":1,\"id\":\"CITY:US480018\"},{\"mindate\":\"1893-01-01\",\"maxdate\":\"2017-12-13\",\"name\":\"Denver, CO US\",\"datacoverage\":1,\"id\":\"CITY:US080004\"},{\"mindate\":\"1894-10-01\",\"maxdate\":\"2017-12-13\",\"name\":\"Des Moines, IA US\",\"datacoverage\":1,\"id\":\"CITY:US190008\"},{\"mindate\":\"1952-06-01\",\"maxdate\":\"2017-11-02\",\"name\":\"Dese, ET\",\"datacoverage\":1,\"id\":\"CITY:ET000005\"},{\"mindate\":\"1927-02-01\",\"maxdate\":\"2017-12-13\",\"name\":\"Destin, FL US\",\"datacoverage\":1,\"id\":\"CITY:US120011\"},{\"mindate\":\"1866-06-01\",\"maxdate\":\"2017-12-13\",\"name\":\"Detroit, MI US\",\"datacoverage\":1,\"id\":\"CITY:US260006\"},{\"mindate\":\"1961-01-01\",\"maxdate\":\"2009-12-31\",\"name\":\"Deva, RO\",\"datacoverage\":1,\"id\":\"CITY:RO000015\"},{\"mindate\":\"1945-02-28\",\"maxdate\":\"2017-12-05\",\"name\":\"Dhaka, BG\",\"datacoverage\":0.9708,\"id\":\"CITY:BG000003\"},{\"mindate\":\"1893-01-01\",\"maxdate\":\"2017-12-13\",\"name\":\"Dickinson, ND US\",\"datacoverage\":1,\"id\":\"CITY:US380002\"},{\"mindate\":\"1973-01-01\",\"maxdate\":\"2017-12-06\",\"name\":\"Dijon, FR\",\"datacoverage\":1,\"id\":\"CITY:FR000008\"},{\"mindate\":\"1945-01-01\",\"maxdate\":\"2017-12-06\",\"name\":\"Dimbokro, IV\",\"datacoverage\":0.9802,\"id\":\"CITY:IV000010\"},{\"mindate\":\"1893-01-01\",\"maxdate\":\"2017-12-13\",\"name\":\"Dixon, IL US\",\"datacoverage\":1,\"id\":\"CITY:US170011\"},{\"mindate\":\"1950-01-01\",\"maxdate\":\"2017-12-06\",\"name\":\"Diyarbakir, TU\",\"datacoverage\":1,\"id\":\"CITY:TU000018\"},{\"mindate\":\"1936-12-01\",\"maxdate\":\"2017-12-06\",\"name\":\"Dnipropetrovs'k, UP\",\"datacoverage\":1,\"id\":\"CITY:UP000004\"},{\"mindate\":\"1909-04-01\",\"maxdate\":\"2017-12-13\",\"name\":\"Dodge City, KS US\",\"datacoverage\":1,\"id\":\"CITY:US200002\"},{\"mindate\":\"1957-01-01\",\"maxdate\":\"2017-12-06\",\"name\":\"Dodoma, TZ\",\"datacoverage\":1,\"id\":\"CITY:TZ000004\"},{\"mindate\":\"1983-01-01\",\"maxdate\":\"2017-12-06\",\"name\":\"Doha, QA\",\"datacoverage\":0.9951,\"id\":\"CITY:QA000001\"},{\"mindate\":\"1949-07-01\",\"maxdate\":\"2014-05-25\",\"name\":\"Donets'k, UP\",\"datacoverage\":1,\"id\":\"CITY:UP000005\"},{\"mindate\":\"1891-01-01\",\"maxdate\":\"2012-12-30\",\"name\":\"Dortmund, GM\",\"datacoverage\":1,\"id\":\"CITY:GM000006\"},{\"mindate\":\"1931-01-01\",\"maxdate\":\"2017-12-13\",\"name\":\"Dothan, AL US\",\"datacoverage\":1,\"id\":\"CITY:US010006\"},{\"mindate\":\"1948-01-01\",\"maxdate\":\"2017-12-06\",\"name\":\"Douala, CM\",\"datacoverage\":1,\"id\":\"CITY:CM000004\"},{\"mindate\":\"1903-12-01\",\"maxdate\":\"2017-12-13\",\"name\":\"Douglas, AZ US\",\"datacoverage\":1,\"id\":\"CITY:US040003\"},{\"mindate\":\"1902-01-01\",\"maxdate\":\"2017-12-13\",\"name\":\"Douglas, GA US\",\"datacoverage\":1,\"id\":\"CITY:US130011\"},{\"mindate\":\"1893-01-01\",\"maxdate\":\"2017-12-13\",\"name\":\"Dover, DE US\",\"datacoverage\":1,\"id\":\"CITY:US100001\"},{\"mindate\":\"1956-12-01\",\"maxdate\":\"2017-10-31\",\"name\":\"Drammen, NO\",\"datacoverage\":0.9992,\"id\":\"CITY:NO000002\"},{\"mindate\":\"1917-01-01\",\"maxdate\":\"2017-12-06\",\"name\":\"Dresden, GM\",\"datacoverage\":1,\"id\":\"CITY:GM000007\"},{\"mindate\":\"1896-01-01\",\"maxdate\":\"2009-12-31\",\"name\":\"Drobeta- Turmu Sererin, RO\",\"datacoverage\":1,\"id\":\"CITY:RO000016\"},{\"mindate\":\"1944-03-01\",\"maxdate\":\"2017-12-06\",\"name\":\"Dubai, AE\",\"datacoverage\":0.9993,\"id\":\"CITY:AE000003\"},{\"mindate\":\"1881-01-01\",\"maxdate\":\"2017-12-06\",\"name\":\"Dublin, EI\",\"datacoverage\":1,\"id\":\"CITY:EI000002\"},{\"mindate\":\"1892-03-01\",\"maxdate\":\"2017-12-13\",\"name\":\"Dublin, GA US\",\"datacoverage\":1,\"id\":\"CITY:US130012\"},{\"mindate\":\"1896-04-01\",\"maxdate\":\"2017-12-13\",\"name\":\"Dubuque, IA US\",\"datacoverage\":1,\"id\":\"CITY:US190009\"},{\"mindate\":\"1931-04-01\",\"maxdate\":\"2017-12-06\",\"name\":\"Duisburg, GM\",\"datacoverage\":1,\"id\":\"CITY:GM000008\"},{\"mindate\":\"1909-01-01\",\"maxdate\":\"2017-12-13\",\"name\":\"Duluth, MN US\",\"datacoverage\":1,\"id\":\"CITY:US270005\"},{\"mindate\":\"1973-01-01\",\"maxdate\":\"2017-12-06\",\"name\":\"Dundee, UK\",\"datacoverage\":1,\"id\":\"CITY:UK000004\"},{\"mindate\":\"1894-10-01\",\"maxdate\":\"2017-12-13\",\"name\":\"Durango, CO US\",\"datacoverage\":1,\"id\":\"CITY:US080005\"},{\"mindate\":\"1963-08-01\",\"maxdate\":\"2017-12-06\",\"name\":\"Durango, MX\",\"datacoverage\":0.9929,\"id\":\"CITY:MX000011\"},{\"mindate\":\"1893-05-15\",\"maxdate\":\"2017-12-13\",\"name\":\"Durant, OK US\",\"datacoverage\":1,\"id\":\"CITY:US400006\"},{\"mindate\":\"1871-01-01\",\"maxdate\":\"2017-12-06\",\"name\":\"Durban, SF\",\"datacoverage\":1,\"id\":\"CITY:SF000004\"},{\"mindate\":\"1891-01-01\",\"maxdate\":\"2017-12-13\",\"name\":\"Durham, NC US\",\"datacoverage\":1,\"id\":\"CITY:US370006\"},{\"mindate\":\"1973-02-05\",\"maxdate\":\"2017-12-06\",\"name\":\"Durres, AL\",\"datacoverage\":0.9925,\"id\":\"CITY:AL000001\"},{\"mindate\":\"1926-04-01\",\"maxdate\":\"2017-12-06\",\"name\":\"Dushanbe, TI\",\"datacoverage\":0.9986,\"id\":\"CITY:TI000001\"},{\"mindate\":\"1931-04-01\",\"maxdate\":\"2017-12-06\",\"name\":\"Dusseldorf, GM\",\"datacoverage\":1,\"id\":\"CITY:GM000009\"},{\"mindate\":\"1924-04-01\",\"maxdate\":\"2017-12-13\",\"name\":\"Dyersburg, TN US\",\"datacoverage\":1,\"id\":\"CITY:US470006\"},{\"mindate\":\"1936-01-01\",\"maxdate\":\"2017-12-06\",\"name\":\"Dzhambul, KZ\",\"datacoverage\":0.9231,\"id\":\"CITY:KZ000005\"},{\"mindate\":\"1942-01-01\",\"maxdate\":\"2017-12-06\",\"name\":\"Dzhizak, UZ\",\"datacoverage\":0.9462,\"id\":\"CITY:UZ000003\"},{\"mindate\":\"1891-01-01\",\"maxdate\":\"2017-12-13\",\"name\":\"Eagle Pass, TX US\",\"datacoverage\":1,\"id\":\"CITY:US480019\"},{\"mindate\":\"1893-01-01\",\"maxdate\":\"2017-12-13\",\"name\":\"Easton, MD US\",\"datacoverage\":1,\"id\":\"CITY:US240005\"},{\"mindate\":\"1889-01-01\",\"maxdate\":\"2017-12-13\",\"name\":\"Eau Claire, WI US\",\"datacoverage\":1,\"id\":\"CITY:US550001\"},{\"mindate\":\"1955-01-01\",\"maxdate\":\"2017-12-06\",\"name\":\"Edirne, TU\",\"datacoverage\":0.9819,\"id\":\"CITY:TU000019\"},{\"mindate\":\"1880-07-01\",\"maxdate\":\"2017-12-10\",\"name\":\"Edmonton, CA\",\"datacoverage\":1,\"id\":\"CITY:CA000002\"},{\"mindate\":\"1893-01-01\",\"maxdate\":\"2017-12-13\",\"name\":\"Effingham, IL US\",\"datacoverage\":1,\"id\":\"CITY:US170012\"},{\"mindate\":\"1896-03-01\",\"maxdate\":\"2017-12-13\",\"name\":\"El Campo, TX US\",\"datacoverage\":1,\"id\":\"CITY:US480020\"},{\"mindate\":\"1901-11-01\",\"maxdate\":\"2017-12-13\",\"name\":\"El Centro, CA US\",\"datacoverage\":1,\"id\":\"CITY:US060008\"},{\"mindate\":\"1931-01-01\",\"maxdate\":\"2017-12-13\",\"name\":\"El Dorado, AR US\",\"datacoverage\":1,\"id\":\"CITY:US050005\"},{\"mindate\":\"1943-04-01\",\"maxdate\":\"2014-03-29\",\"name\":\"El Fasher, SU\",\"datacoverage\":1,\"id\":\"CITY:SU000001\"},{\"mindate\":\"1957-07-01\",\"maxdate\":\"2017-12-06\",\"name\":\"El Obeid, SU\",\"datacoverage\":0.9993,\"id\":\"CITY:SU000002\"},{\"mindate\":\"1899-06-01\",\"maxdate\":\"2017-12-13\",\"name\":\"El Paso, TX US\",\"datacoverage\":1,\"id\":\"CITY:US480021\"},{\"mindate\":\"1973-01-01\",\"maxdate\":\"2017-12-06\",\"name\":\"Elazig, TU\",\"datacoverage\":1,\"id\":\"CITY:TU000020\"},{\"mindate\":\"1936-01-03\",\"maxdate\":\"2017-12-06\",\"name\":\"Elblag, PL\",\"datacoverage\":0.9992,\"id\":\"CITY:PL000007\"},{\"mindate\":\"1895-05-01\",\"maxdate\":\"2017-12-13\",\"name\":\"Elgin, IL US\",\"datacoverage\":1,\"id\":\"CITY:US170013\"},{\"mindate\":\"1927-10-01\",\"maxdate\":\"2017-12-06\",\"name\":\"Elista, RS\",\"datacoverage\":0.9837,\"id\":\"CITY:RS000012\"},{\"mindate\":\"1911-04-01\",\"maxdate\":\"2017-12-13\",\"name\":\"Elizabeth City, NC US\",\"datacoverage\":1,\"id\":\"CITY:US370007\"},{\"mindate\":\"1896-03-01\",\"maxdate\":\"2017-12-13\",\"name\":\"Elizabethtown, KY US\",\"datacoverage\":1,\"id\":\"CITY:US210004\"},{\"mindate\":\"1904-05-01\",\"maxdate\":\"2017-12-13\",\"name\":\"Elk City, OK US\",\"datacoverage\":1,\"id\":\"CITY:US400007\"},{\"mindate\":\"1888-02-01\",\"maxdate\":\"2017-12-13\",\"name\":\"Elko, NV US\",\"datacoverage\":1,\"id\":\"CITY:US320003\"},{\"mindate\":\"1893-02-01\",\"maxdate\":\"2017-12-13\",\"name\":\"Ellensburg, WA US\",\"datacoverage\":1,\"id\":\"CITY:US530007\"},{\"mindate\":\"1893-01-01\",\"maxdate\":\"2017-12-13\",\"name\":\"Elmira, NY US\",\"datacoverage\":1,\"id\":\"CITY:US360009\"},{\"mindate\":\"1893-01-01\",\"maxdate\":\"2017-12-13\",\"name\":\"Emporia, KS US\",\"datacoverage\":1,\"id\":\"CITY:US200003\"},{\"mindate\":\"1951-01-01\",\"maxdate\":\"2017-12-06\",\"name\":\"Encarnacion, PA\",\"datacoverage\":1,\"id\":\"CITY:PA000003\"},{\"mindate\":\"1894-02-01\",\"maxdate\":\"2017-12-13\",\"name\":\"Enid, OK US\",\"datacoverage\":1,\"id\":\"CITY:US400008\"},{\"mindate\":\"1902-05-01\",\"maxdate\":\"2017-12-13\",\"name\":\"Enterprise, AL US\",\"datacoverage\":1,\"id\":\"CITY:US010007\"},{\"mindate\":\"1973-06-08\",\"maxdate\":\"2014-05-11\",\"name\":\"Enugu, NI\",\"datacoverage\":0.1461,\"id\":\"CITY:NI000011\"},{\"mindate\":\"1935-01-01\",\"maxdate\":\"2017-12-06\",\"name\":\"Erfurt, GM\",\"datacoverage\":1,\"id\":\"CITY:GM000010\"},{\"mindate\":\"1929-10-01\",\"maxdate\":\"2017-12-13\",\"name\":\"Erie, PA US\",\"datacoverage\":1,\"id\":\"CITY:US420007\"},{\"mindate\":\"1950-01-01\",\"maxdate\":\"2017-12-06\",\"name\":\"Erzincan, TU\",\"datacoverage\":1,\"id\":\"CITY:TU000021\"},{\"mindate\":\"1950-05-01\",\"maxdate\":\"2017-12-06\",\"name\":\"Erzurum, TU\",\"datacoverage\":0.9973,\"id\":\"CITY:TU000022\"},{\"mindate\":\"1948-01-01\",\"maxdate\":\"2017-12-13\",\"name\":\"Escanaba, MI US\",\"datacoverage\":1,\"id\":\"CITY:US260007\"},{\"mindate\":\"1948-09-01\",\"maxdate\":\"2017-12-06\",\"name\":\"Esfahan, IR\",\"datacoverage\":1,\"id\":\"CITY:IR000003\"},{\"mindate\":\"1931-04-01\",\"maxdate\":\"2017-12-06\",\"name\":\"Essen, GM\",\"datacoverage\":1,\"id\":\"CITY:GM000011\"},{\"mindate\":\"1979-01-01\",\"maxdate\":\"1991-12-31\",\"name\":\"Esteli, NU\",\"datacoverage\":0.9744,\"id\":\"CITY:NU000002\"},{\"mindate\":\"1892-06-01\",\"maxdate\":\"2017-12-13\",\"name\":\"Eufaula, AL US\",\"datacoverage\":1,\"id\":\"CITY:US010008\"},{\"mindate\":\"1899-06-01\",\"maxdate\":\"2017-12-13\",\"name\":\"Eugene, OR US\",\"datacoverage\":1,\"id\":\"CITY:US410005\"},{\"mindate\":\"1931-01-01\",\"maxdate\":\"2017-12-13\",\"name\":\"Eureka, CA US\",\"datacoverage\":1,\"id\":\"CITY:US060009\"},{\"mindate\":\"1890-12-01\",\"maxdate\":\"2017-12-13\",\"name\":\"Evanston, WY US\",\"datacoverage\":1,\"id\":\"CITY:US560003\"},{\"mindate\":\"1894-01-01\",\"maxdate\":\"2017-12-13\",\"name\":\"Evansville, IN US\",\"datacoverage\":1,\"id\":\"CITY:US180002\"},{\"mindate\":\"1894-02-01\",\"maxdate\":\"2017-12-13\",\"name\":\"Everett, WA US\",\"datacoverage\":1,\"id\":\"CITY:US530008\"},{\"mindate\":\"1996-08-01\",\"maxdate\":\"2017-12-06\",\"name\":\"Evora, PO\",\"datacoverage\":1,\"id\":\"CITY:PO000004\"},{\"mindate\":\"1893-01-01\",\"maxdate\":\"2017-12-13\",\"name\":\"Excelsior Springs, MO US\",\"datacoverage\":1,\"id\":\"CITY:US290003\"},{\"mindate\":\"1911-07-01\",\"maxdate\":\"2017-12-13\",\"name\":\"Fairbanks, AK US\",\"datacoverage\":1,\"id\":\"CITY:US020002\"},{\"mindate\":\"1893-01-01\",\"maxdate\":\"2017-12-13\",\"name\":\"Fairmont, MN US\",\"datacoverage\":1,\"id\":\"CITY:US270006\"},{\"mindate\":\"1873-01-01\",\"maxdate\":\"2017-12-13\",\"name\":\"Fairmont, WV US\",\"datacoverage\":1,\"id\":\"CITY:US540004\"},{\"mindate\":\"1884-11-01\",\"maxdate\":\"2017-12-13\",\"name\":\"Fall River, MA US\",\"datacoverage\":1,\"id\":\"CITY:US250004\"},{\"mindate\":\"1900-01-01\",\"maxdate\":\"2017-12-13\",\"name\":\"Fargo, ND US\",\"datacoverage\":1,\"id\":\"CITY:US380003\"},{\"mindate\":\"1893-01-01\",\"maxdate\":\"2017-12-13\",\"name\":\"Faribault, MN US\",\"datacoverage\":1,\"id\":\"CITY:US270007\"},{\"mindate\":\"1893-01-01\",\"maxdate\":\"2017-12-13\",\"name\":\"Farmington, MO US\",\"datacoverage\":1,\"id\":\"CITY:US290004\"},{\"mindate\":\"1892-12-01\",\"maxdate\":\"2017-12-13\",\"name\":\"Farmington, NM US\",\"datacoverage\":1,\"id\":\"CITY:US350006\"},{\"mindate\":\"1892-01-01\",\"maxdate\":\"2017-12-13\",\"name\":\"Fayetteville, AR US\",\"datacoverage\":1,\"id\":\"CITY:US050006\"},{\"mindate\":\"1871-11-01\",\"maxdate\":\"2017-12-13\",\"name\":\"Fayetteville, NC US\",\"datacoverage\":1,\"id\":\"CITY:US370008\"},{\"mindate\":\"1891-08-01\",\"maxdate\":\"2017-12-13\",\"name\":\"Federal Way, WA US\",\"datacoverage\":1,\"id\":\"CITY:US530009\"},{\"mindate\":\"1881-04-01\",\"maxdate\":\"2017-12-06\",\"name\":\"Fergana, UZ\",\"datacoverage\":0.9544,\"id\":\"CITY:UZ000004\"},{\"mindate\":\"1893-01-01\",\"maxdate\":\"2017-12-13\",\"name\":\"Fergus Falls, MN US\",\"datacoverage\":1,\"id\":\"CITY:US270008\"},{\"mindate\":\"1945-01-01\",\"maxdate\":\"1971-06-30\",\"name\":\"Ferkessedougou, IV\",\"datacoverage\":0.9625,\"id\":\"CITY:IV000012\"},{\"mindate\":\"1973-02-01\",\"maxdate\":\"2017-12-05\",\"name\":\"Fianarantsoa, MA\",\"datacoverage\":1,\"id\":\"CITY:MA000003\"},{\"mindate\":\"1893-01-01\",\"maxdate\":\"2017-12-13\",\"name\":\"Flagstaff, AZ US\",\"datacoverage\":1,\"id\":\"CITY:US040004\"},{\"mindate\":\"1891-09-01\",\"maxdate\":\"2017-12-13\",\"name\":\"Flint, MI US\",\"datacoverage\":1,\"id\":\"CITY:US260008\"},{\"mindate\":\"1893-01-01\",\"maxdate\":\"2017-12-13\",\"name\":\"Florence, AL US\",\"datacoverage\":1,\"id\":\"CITY:US010009\"},{\"mindate\":\"1893-05-01\",\"maxdate\":\"2017-12-13\",\"name\":\"Florence, SC US\",\"datacoverage\":1,\"id\":\"CITY:US450004\"},{\"mindate\":\"1945-10-01\",\"maxdate\":\"1999-04-30\",\"name\":\"Florianopolis, BR\",\"datacoverage\":0.9994,\"id\":\"CITY:BR000009\"},{\"mindate\":\"1973-01-01\",\"maxdate\":\"2017-12-06\",\"name\":\"Formosa, AR\",\"datacoverage\":0.9921,\"id\":\"CITY:AR000007\"},{\"mindate\":\"1892-01-01\",\"maxdate\":\"2017-12-13\",\"name\":\"Forrest City, AR US\",\"datacoverage\":1,\"id\":\"CITY:US050007\"},{\"mindate\":\"1891-10-01\",\"maxdate\":\"2017-12-13\",\"name\":\"Fort Benning South, GA US\",\"datacoverage\":1,\"id\":\"CITY:US130013\"},{\"mindate\":\"1871-11-01\",\"maxdate\":\"2017-12-13\",\"name\":\"Fort Bragg, NC US\",\"datacoverage\":1,\"id\":\"CITY:US370009\"},{\"mindate\":\"1893-01-01\",\"maxdate\":\"2017-12-13\",\"name\":\"Fort Collins, CO US\",\"datacoverage\":1,\"id\":\"CITY:US080006\"},{\"mindate\":\"1893-05-01\",\"maxdate\":\"2017-12-13\",\"name\":\"Fort Dodge, IA US\",\"datacoverage\":1,\"id\":\"CITY:US190010\"},{\"mindate\":\"1912-01-01\",\"maxdate\":\"2017-12-13\",\"name\":\"Fort Hood, TX US\",\"datacoverage\":1,\"id\":\"CITY:US480022\"},{\"mindate\":\"1893-01-01\",\"maxdate\":\"2017-12-13\",\"name\":\"Fort Knox, KY US\",\"datacoverage\":1,\"id\":\"CITY:US210005\"},{\"mindate\":\"1897-04-01\",\"maxdate\":\"2017-12-13\",\"name\":\"Fort Lauderdale, FL US\",\"datacoverage\":1,\"id\":\"CITY:US120012\"},{\"mindate\":\"1892-04-01\",\"maxdate\":\"2017-12-13\",\"name\":\"Fort Leonard Wood, MO US\",\"datacoverage\":1,\"id\":\"CITY:US290005\"},{\"mindate\":\"1896-12-01\",\"maxdate\":\"2017-12-13\",\"name\":\"Fort Morgan, CO US\",\"datacoverage\":1,\"id\":\"CITY:US080007\"},{\"mindate\":\"1892-01-01\",\"maxdate\":\"2017-12-13\",\"name\":\"Fort Myers, FL US\",\"datacoverage\":1,\"id\":\"CITY:US120013\"},{\"mindate\":\"1893-01-01\",\"maxdate\":\"2017-12-13\",\"name\":\"Fort Payne, AL US\",\"datacoverage\":1,\"id\":\"CITY:US010010\"},{\"mindate\":\"1903-03-10\",\"maxdate\":\"2017-12-13\",\"name\":\"Fort Polk South, LA US\",\"datacoverage\":1,\"id\":\"CITY:US220005\"},{\"mindate\":\"1900-10-01\",\"maxdate\":\"2017-12-13\",\"name\":\"Fort Smith, AR US\",\"datacoverage\":1,\"id\":\"CITY:US050008\"},{\"mindate\":\"1927-01-01\",\"maxdate\":\"2017-12-13\",\"name\":\"Fort Walton Beach, FL US\",\"datacoverage\":1,\"id\":\"CITY:US120014\"}]}\n"
     ]
    }
   ],
   "source": [
    "cities = 'https://www.ncdc.noaa.gov/cdo-web/api/v2/locations?locationcategoryid=CITY&sortfield=name&offset=100&limit=500'\n",
    "\n",
    "r = requests.get(cities, headers={'token': TOKEN})\n",
    "print(r.text)"
   ]
  },
  {
   "cell_type": "markdown",
   "metadata": {},
   "source": [
    "### Determine data coverage\n",
    "\n",
    "Now that we have our city ID, let's see how far back the data goes. According to the API docs, we can get some basic information on our chosen location by hitting the endpoint `https://www.ncdc.noaa.gov/cdo-web/api/v2/locations/{id}`. Let's do that."
   ]
  },
  {
   "cell_type": "code",
   "execution_count": 43,
   "metadata": {},
   "outputs": [
    {
     "name": "stdout",
     "output_type": "stream",
     "text": [
      "{'datacoverage': 1,\n",
      " 'id': 'CITY:US080003',\n",
      " 'maxdate': '2017-12-13',\n",
      " 'mindate': '1894-05-01',\n",
      " 'name': 'Colorado Springs, CO US'}\n"
     ]
    }
   ],
   "source": [
    "from pprint import pprint\n",
    "\n",
    "CITY_ID = 'CITY:US080003'\n",
    "location_summary = 'https://www.ncdc.noaa.gov/cdo-web/api/v2/locations/{id}'.format(id=CITY_ID)\n",
    "\n",
    "r = requests.get(location_summary, headers={'token': TOKEN})\n",
    "\n",
    "CITY_NAME = r.json()['name'].replace(' US', '')\n",
    "\n",
    "pprint(r.json())"
   ]
  },
  {
   "cell_type": "markdown",
   "metadata": {},
   "source": [
    "So the oldest data is from May 1894. _Nice_.\n",
    "\n",
    "We're interested in data on Christmas each year, so let's build a string template and set a new variable, `MIN_YEAR`, equal to 1894. Later, we'll iterate through the years and populate that template to construct an API call."
   ]
  },
  {
   "cell_type": "code",
   "execution_count": 7,
   "metadata": {},
   "outputs": [],
   "source": [
    "MIN_YEAR = 1893\n",
    "XMAS = '{}-12-25'"
   ]
  },
  {
   "cell_type": "markdown",
   "metadata": {},
   "source": [
    "### Find the ID of the `dataset` we're interested in\n",
    "\n",
    "To see all datasets available from this API, we can hit the endpoint `https://www.ncdc.noaa.gov/cdo-web/api/v2/datasets`."
   ]
  },
  {
   "cell_type": "code",
   "execution_count": 25,
   "metadata": {},
   "outputs": [
    {
     "name": "stdout",
     "output_type": "stream",
     "text": [
      "{'metadata': {'resultset': {'count': 11, 'limit': 25, 'offset': 1}},\n",
      " 'results': [{'datacoverage': 1,\n",
      "              'id': 'GHCND',\n",
      "              'maxdate': '2017-12-11',\n",
      "              'mindate': '1763-01-01',\n",
      "              'name': 'Daily Summaries',\n",
      "              'uid': 'gov.noaa.ncdc:C00861'},\n",
      "             {'datacoverage': 1,\n",
      "              'id': 'GSOM',\n",
      "              'maxdate': '2017-11-01',\n",
      "              'mindate': '1763-01-01',\n",
      "              'name': 'Global Summary of the Month',\n",
      "              'uid': 'gov.noaa.ncdc:C00946'},\n",
      "             {'datacoverage': 1,\n",
      "              'id': 'GSOY',\n",
      "              'maxdate': '2017-01-01',\n",
      "              'mindate': '1763-01-01',\n",
      "              'name': 'Global Summary of the Year',\n",
      "              'uid': 'gov.noaa.ncdc:C00947'},\n",
      "             {'datacoverage': 0.95,\n",
      "              'id': 'NEXRAD2',\n",
      "              'maxdate': '2017-12-13',\n",
      "              'mindate': '1991-06-05',\n",
      "              'name': 'Weather Radar (Level II)',\n",
      "              'uid': 'gov.noaa.ncdc:C00345'},\n",
      "             {'datacoverage': 0.95,\n",
      "              'id': 'NEXRAD3',\n",
      "              'maxdate': '2017-12-10',\n",
      "              'mindate': '1994-05-20',\n",
      "              'name': 'Weather Radar (Level III)',\n",
      "              'uid': 'gov.noaa.ncdc:C00708'},\n",
      "             {'datacoverage': 1,\n",
      "              'id': 'NORMAL_ANN',\n",
      "              'maxdate': '2010-01-01',\n",
      "              'mindate': '2010-01-01',\n",
      "              'name': 'Normals Annual/Seasonal',\n",
      "              'uid': 'gov.noaa.ncdc:C00821'},\n",
      "             {'datacoverage': 1,\n",
      "              'id': 'NORMAL_DLY',\n",
      "              'maxdate': '2010-12-31',\n",
      "              'mindate': '2010-01-01',\n",
      "              'name': 'Normals Daily',\n",
      "              'uid': 'gov.noaa.ncdc:C00823'},\n",
      "             {'datacoverage': 1,\n",
      "              'id': 'NORMAL_HLY',\n",
      "              'maxdate': '2010-12-31',\n",
      "              'mindate': '2010-01-01',\n",
      "              'name': 'Normals Hourly',\n",
      "              'uid': 'gov.noaa.ncdc:C00824'},\n",
      "             {'datacoverage': 1,\n",
      "              'id': 'NORMAL_MLY',\n",
      "              'maxdate': '2010-12-01',\n",
      "              'mindate': '2010-01-01',\n",
      "              'name': 'Normals Monthly',\n",
      "              'uid': 'gov.noaa.ncdc:C00822'},\n",
      "             {'datacoverage': 0.25,\n",
      "              'id': 'PRECIP_15',\n",
      "              'maxdate': '2014-01-01',\n",
      "              'mindate': '1970-05-12',\n",
      "              'name': 'Precipitation 15 Minute',\n",
      "              'uid': 'gov.noaa.ncdc:C00505'},\n",
      "             {'datacoverage': 1,\n",
      "              'id': 'PRECIP_HLY',\n",
      "              'maxdate': '2014-01-01',\n",
      "              'mindate': '1900-01-01',\n",
      "              'name': 'Precipitation Hourly',\n",
      "              'uid': 'gov.noaa.ncdc:C00313'}]}\n"
     ]
    }
   ],
   "source": [
    "r = requests.get('https://www.ncdc.noaa.gov/cdo-web/api/v2/datasets', headers={'token': TOKEN})\n",
    "pprint(r.json())"
   ]
  },
  {
   "cell_type": "markdown",
   "metadata": {},
   "source": [
    "We want `GHCND`, the daily summary. Let's set that as a variable."
   ]
  },
  {
   "cell_type": "code",
   "execution_count": 12,
   "metadata": {},
   "outputs": [],
   "source": [
    "DATASET = 'GHCND'"
   ]
  },
  {
   "cell_type": "markdown",
   "metadata": {},
   "source": [
    "### Build the endpoint template\n",
    "\n",
    "For every year, we're going to hit the same endpoint -- the only difference will be the `startdate` and `enddate` parameters. Let's make it a template."
   ]
  },
  {
   "cell_type": "code",
   "execution_count": 11,
   "metadata": {},
   "outputs": [],
   "source": [
    "ENDPOINT = 'https://www.ncdc.noaa.gov/cdo-web/api/v2/' \\\n",
    "           'data?datasetid={}&locationid={}&startdate={}' \\\n",
    "           '&enddate={}&units=standard'"
   ]
  },
  {
   "cell_type": "markdown",
   "metadata": {},
   "source": [
    "To get the actual data, we're making a call to the `data` endpoint and passing in these paramters:\n",
    "\n",
    "- `datasetid`\n",
    "- `locationid`\n",
    "- `startdate`\n",
    "- `enddate`\n",
    "\n",
    "... we're also specifying that we want the results in _standard_ instead of _metric_ units."
   ]
  },
  {
   "cell_type": "markdown",
   "metadata": {},
   "source": [
    "### Write a function to parse daily summary data\n",
    "\n",
    "Now we'll write a function that takes two arguments -- the target date and the city ID -- and returns a dictionary of snow-related data. Later, we'll call this function inside a loop that will iterate over all the Christmases for which there are data.\n",
    "\n",
    "Each time it's called, the function will try to fetch the daily summary data on the `target_date` for all weather stations within the `location` -- we'll set Colorado Springs as the default location. The result set for each API call will be a JSON array of objects; each object, in turn, is a measurement observed that day by a weather station in that city.\n",
    "\n",
    "We're interested in observations of two [`datatypes`](https://www.ncdc.noaa.gov/cdo-web/webservices/v2#dataTypes): _SNOW_ (snowfall) and _SNWD_ (snow depth). (If you're interested, you can page through the huge catalog of available datatypes at this endpoint: `https://www.ncdc.noaa.gov/cdo-web/api/v2/datatypes?limit=999`.)\n",
    "\n",
    "From there, we want our function to:\n",
    "- Filter the observations to target just snowfall observed that day\n",
    "- Filter the observations to target just snow depth observed that day\n",
    "- For each list of snow-related observations, find the observation with the max value\n",
    "\n",
    "In other words, we want to find and return the _maximum_ snowfall and _maximum_ snow depth observed in the location on that day. We'll also keep track of which station made each observation."
   ]
  },
  {
   "cell_type": "code",
   "execution_count": 44,
   "metadata": {},
   "outputs": [],
   "source": [
    "def get_daily_summary(target_date, location=CITY_ID):\n",
    "    \"\"\"Fetch and parse daily climate data for a location ID on a given date.\n",
    "       Returns a dict w/ data on snowfall and snow depth.\n",
    "    \"\"\"\n",
    "    \n",
    "    # fill in the template for the endpoint\n",
    "    ep = ENDPOINT.format(DATASET, location, target_date, target_date)\n",
    "    \n",
    "    # make the request\n",
    "    r = requests.get(ep, headers={'token': TOKEN})\n",
    "    \n",
    "    try:\n",
    "        # the key for the results is 'results'\n",
    "        results = r.json()['results']\n",
    "\n",
    "        # filter the results for snowfall\n",
    "        snowfall = [x for x in results if x['datatype'] == 'SNOW']\n",
    "\n",
    "        # filter the results for snow depth\n",
    "        snow_depth = [x for x in results if x['datatype'] == 'SNWD']\n",
    "\n",
    "        # not every date has these data types\n",
    "        if snowfall:\n",
    "            # find the max and set the vars\n",
    "            max_snowfall = max(snowfall, key=lambda x: x['value'])\n",
    "            station_sf = max_snowfall['station']\n",
    "            max_sf = max_snowfall['value']\n",
    "        else:\n",
    "            # if no data, return '-' for each var\n",
    "            station_sf = '-'\n",
    "            max_sf = '-'\n",
    "\n",
    "        if snow_depth:\n",
    "            # find the max and set the vars\n",
    "            max_snow_depth = max(snow_depth, key=lambda x: x['value'])\n",
    "            station_sd = max_snow_depth['station']\n",
    "            max_sd = max_snow_depth['value']\n",
    "        else:\n",
    "            # if no data, return '-' for each var\n",
    "            station_sd = '-'\n",
    "            max_sd = '-'\n",
    "\n",
    "    except KeyError:\n",
    "        station_sf = '-'\n",
    "        max_sf = '-'\n",
    "        station_sd = '-'\n",
    "        max_sd = '-'\n",
    "\n",
    "    return {\n",
    "        'date': target_date,\n",
    "        'station_sf': station_sf,\n",
    "        'max_snowfall': max_sf,\n",
    "        'station_sd': station_sd,\n",
    "        'max_snowdepth': max_sd\n",
    "    }"
   ]
  },
  {
   "cell_type": "markdown",
   "metadata": {},
   "source": [
    "### Collect the data\n",
    "\n",
    "Now we'll iterate through every year, call the function and dump the data to a CSV."
   ]
  },
  {
   "cell_type": "code",
   "execution_count": 45,
   "metadata": {},
   "outputs": [],
   "source": [
    "import csv\n",
    "from time import sleep\n",
    "\n",
    "XMAS_SNOW_CSV = 'xmas-colo-springs.csv'"
   ]
  },
  {
   "cell_type": "code",
   "execution_count": 13,
   "metadata": {},
   "outputs": [
    {
     "name": "stdout",
     "output_type": "stream",
     "text": [
      "Grabbing data for Xmas 1893\n",
      "Grabbing data for Xmas 1894\n",
      "Grabbing data for Xmas 1895\n",
      "Grabbing data for Xmas 1896\n",
      "Grabbing data for Xmas 1897\n",
      "Grabbing data for Xmas 1898\n",
      "Grabbing data for Xmas 1899\n",
      "Grabbing data for Xmas 1900\n",
      "Grabbing data for Xmas 1901\n",
      "Grabbing data for Xmas 1902\n",
      "Grabbing data for Xmas 1903\n",
      "Grabbing data for Xmas 1904\n",
      "Grabbing data for Xmas 1905\n",
      "Grabbing data for Xmas 1906\n",
      "Grabbing data for Xmas 1907\n",
      "Grabbing data for Xmas 1908\n",
      "Grabbing data for Xmas 1909\n",
      "Grabbing data for Xmas 1910\n",
      "Grabbing data for Xmas 1911\n",
      "Grabbing data for Xmas 1912\n",
      "Grabbing data for Xmas 1913\n",
      "Grabbing data for Xmas 1914\n",
      "Grabbing data for Xmas 1915\n",
      "Grabbing data for Xmas 1916\n",
      "Grabbing data for Xmas 1917\n",
      "Grabbing data for Xmas 1918\n",
      "Grabbing data for Xmas 1919\n",
      "Grabbing data for Xmas 1920\n",
      "Grabbing data for Xmas 1921\n",
      "Grabbing data for Xmas 1922\n",
      "Grabbing data for Xmas 1923\n",
      "Grabbing data for Xmas 1924\n",
      "Grabbing data for Xmas 1925\n",
      "Grabbing data for Xmas 1926\n",
      "Grabbing data for Xmas 1927\n",
      "Grabbing data for Xmas 1928\n",
      "Grabbing data for Xmas 1929\n",
      "Grabbing data for Xmas 1930\n",
      "Grabbing data for Xmas 1931\n",
      "Grabbing data for Xmas 1932\n",
      "Grabbing data for Xmas 1933\n",
      "Grabbing data for Xmas 1934\n",
      "Grabbing data for Xmas 1935\n",
      "Grabbing data for Xmas 1936\n",
      "Grabbing data for Xmas 1937\n",
      "Grabbing data for Xmas 1938\n",
      "Grabbing data for Xmas 1939\n",
      "Grabbing data for Xmas 1940\n",
      "Grabbing data for Xmas 1941\n",
      "Grabbing data for Xmas 1942\n",
      "Grabbing data for Xmas 1943\n",
      "Grabbing data for Xmas 1944\n",
      "Grabbing data for Xmas 1945\n",
      "Grabbing data for Xmas 1946\n",
      "Grabbing data for Xmas 1947\n",
      "Grabbing data for Xmas 1948\n",
      "Grabbing data for Xmas 1949\n",
      "Grabbing data for Xmas 1950\n",
      "Grabbing data for Xmas 1951\n",
      "Grabbing data for Xmas 1952\n",
      "Grabbing data for Xmas 1953\n",
      "Grabbing data for Xmas 1954\n",
      "Grabbing data for Xmas 1955\n",
      "Grabbing data for Xmas 1956\n",
      "Grabbing data for Xmas 1957\n",
      "Grabbing data for Xmas 1958\n",
      "Grabbing data for Xmas 1959\n",
      "Grabbing data for Xmas 1960\n",
      "Grabbing data for Xmas 1961\n",
      "Grabbing data for Xmas 1962\n",
      "Grabbing data for Xmas 1963\n",
      "Grabbing data for Xmas 1964\n",
      "Grabbing data for Xmas 1965\n",
      "Grabbing data for Xmas 1966\n",
      "Grabbing data for Xmas 1967\n",
      "Grabbing data for Xmas 1968\n",
      "Grabbing data for Xmas 1969\n",
      "Grabbing data for Xmas 1970\n",
      "Grabbing data for Xmas 1971\n",
      "Grabbing data for Xmas 1972\n",
      "Grabbing data for Xmas 1973\n",
      "Grabbing data for Xmas 1974\n",
      "Grabbing data for Xmas 1975\n",
      "Grabbing data for Xmas 1976\n",
      "Grabbing data for Xmas 1977\n",
      "Grabbing data for Xmas 1978\n",
      "Grabbing data for Xmas 1979\n",
      "Grabbing data for Xmas 1980\n",
      "Grabbing data for Xmas 1981\n",
      "Grabbing data for Xmas 1982\n",
      "Grabbing data for Xmas 1983\n",
      "Grabbing data for Xmas 1984\n",
      "Grabbing data for Xmas 1985\n",
      "Grabbing data for Xmas 1986\n",
      "Grabbing data for Xmas 1987\n",
      "Grabbing data for Xmas 1988\n",
      "Grabbing data for Xmas 1989\n",
      "Grabbing data for Xmas 1990\n",
      "Grabbing data for Xmas 1991\n",
      "Grabbing data for Xmas 1992\n",
      "Grabbing data for Xmas 1993\n",
      "Grabbing data for Xmas 1994\n",
      "Grabbing data for Xmas 1995\n",
      "Grabbing data for Xmas 1996\n",
      "Grabbing data for Xmas 1997\n",
      "Grabbing data for Xmas 1998\n",
      "Grabbing data for Xmas 1999\n",
      "Grabbing data for Xmas 2000\n",
      "Grabbing data for Xmas 2001\n",
      "Grabbing data for Xmas 2002\n",
      "Grabbing data for Xmas 2003\n",
      "Grabbing data for Xmas 2004\n",
      "Grabbing data for Xmas 2005\n",
      "Grabbing data for Xmas 2006\n",
      "Grabbing data for Xmas 2007\n",
      "Grabbing data for Xmas 2008\n",
      "Grabbing data for Xmas 2009\n",
      "Grabbing data for Xmas 2010\n",
      "Grabbing data for Xmas 2011\n",
      "Grabbing data for Xmas 2012\n",
      "Grabbing data for Xmas 2013\n",
      "Grabbing data for Xmas 2014\n",
      "Grabbing data for Xmas 2015\n",
      "Grabbing data for Xmas 2016\n"
     ]
    }
   ],
   "source": [
    "with open(XMAS_SNOW_CSV, 'w') as f:\n",
    "\n",
    "    headers = ['date', 'max_snowfall', 'max_snowdepth',\n",
    "               'station_sf', 'station_sd']\n",
    "\n",
    "    writer = csv.DictWriter(f, fieldnames=headers)\n",
    "    writer.writeheader()\n",
    "\n",
    "    for i in range(MIN_YEAR, 2017):\n",
    "        print('Grabbing data for Xmas', i)\n",
    "        snow_data = get_daily_summary(XMAS.format(i))\n",
    "        writer.writerow(snow_data)\n",
    "        sleep(3)"
   ]
  },
  {
   "cell_type": "markdown",
   "metadata": {},
   "source": [
    "### Load the data into `pandas` for analysis"
   ]
  },
  {
   "cell_type": "code",
   "execution_count": 39,
   "metadata": {},
   "outputs": [],
   "source": [
    "import pandas as pd\n",
    "import numpy as np"
   ]
  },
  {
   "cell_type": "code",
   "execution_count": 40,
   "metadata": {},
   "outputs": [],
   "source": [
    "df = pd.read_csv(XMAS_SNOW_CSV)\n",
    "df.max_snowfall = df.max_snowfall.replace('-', np.nan).astype(float)\n",
    "df.max_snowdepth = df.max_snowdepth.replace('-', np.nan).astype(float)"
   ]
  },
  {
   "cell_type": "markdown",
   "metadata": {},
   "source": [
    "### Kill out years with no data\n",
    "\n",
    "Some years, there were no snowfall or snow depth observations that day. Let's exclude those."
   ]
  },
  {
   "cell_type": "code",
   "execution_count": 54,
   "metadata": {},
   "outputs": [
    {
     "name": "stdout",
     "output_type": "stream",
     "text": [
      "118 of 123 years have data\n"
     ]
    }
   ],
   "source": [
    "total_years = len(df)\n",
    "no_nulls = df.dropna(thresh=4)\n",
    "no_nulls_count = len(no_nulls)\n",
    "\n",
    "print(no_nulls_count, 'of', total_years, 'years have data')"
   ]
  },
  {
   "cell_type": "markdown",
   "metadata": {},
   "source": [
    "### How many white Christmases?\n",
    "\n",
    "... defined as having an inch or more of snow on the ground."
   ]
  },
  {
   "cell_type": "code",
   "execution_count": 49,
   "metadata": {},
   "outputs": [
    {
     "name": "stdout",
     "output_type": "stream",
     "text": [
      "In the 118 years for which there are data, Colorado Springs, CO, has had at least 51 white Christmases (43.22% of the time), according to my definition.\n"
     ]
    }
   ],
   "source": [
    "white_xmas = no_nulls[no_nulls.max_snowdepth >= 1.0]\n",
    "white_xmas_count = len(white_xmas)\n",
    "\n",
    "print('In the {} years for which there are data, {}, has had at least {} white Christmases ({:.2f}% of the time), according to my definition.'.format(\n",
    "    no_nulls_count, CITY_NAME, white_xmas_count, (white_xmas_count / no_nulls_count) * 100\n",
    "))"
   ]
  },
  {
   "cell_type": "markdown",
   "metadata": {},
   "source": [
    "### How many white Christmases (as defined by Pueblo NWS)?\n",
    "\n",
    "The folks at the Pueblo NWS station [publish some Christmas-related climate data](https://www.weather.gov/pub/climateCosChristmasFacts), too, but they define a white Christmas as \">0.5 inches of snow falling on Christmas day with a least 1 inch on the ground.\" (Some of my results differ from theirs, FWIW.)"
   ]
  },
  {
   "cell_type": "code",
   "execution_count": 52,
   "metadata": {},
   "outputs": [
    {
     "name": "stdout",
     "output_type": "stream",
     "text": [
      "In the 118 years for which there are data, Colorado Springs, CO, has had at least 8 white Christmases (6.78% of the time), according to the definition of the Pueblo NWS office.\n"
     ]
    }
   ],
   "source": [
    "white_xmas_pub = no_nulls[(no_nulls.max_snowdepth >= 1.0) & (no_nulls.max_snowfall > 0.5)]\n",
    "white_xmas_pub_count = len(white_xmas_pub)\n",
    "\n",
    "print('In the {} years for which there are data, {}, has had at least {} white Christmases ({:.2f}% of the time), according to the definition of the Pueblo NWS office.'.format(\n",
    "    no_nulls_count, CITY_NAME, white_xmas_pub_count, (white_xmas_pub_count / no_nulls_count) * 100\n",
    "))"
   ]
  },
  {
   "cell_type": "markdown",
   "metadata": {},
   "source": [
    "### Most snowfall and snow depth"
   ]
  },
  {
   "cell_type": "code",
   "execution_count": 78,
   "metadata": {},
   "outputs": [
    {
     "name": "stdout",
     "output_type": "stream",
     "text": [
      "Christmas in Colorado Springs with the most snowfall (4.8\"): 1939\n"
     ]
    }
   ],
   "source": [
    "most_snowfall = df.loc[df.max_snowfall.idxmax()]\n",
    "\n",
    "print('Christmas in Colorado Springs with the most snowfall ({:.1f}\"): {}'.format(most_snowfall.max_snowfall, most_snowfall.date[:4]))"
   ]
  },
  {
   "cell_type": "code",
   "execution_count": 79,
   "metadata": {},
   "outputs": [
    {
     "name": "stdout",
     "output_type": "stream",
     "text": [
      "Christmas in Colorado Springs with the highest snow depth (23.0\"): 1992\n"
     ]
    }
   ],
   "source": [
    "most_snowdepth = df.loc[df.max_snowdepth.idxmax()]\n",
    "\n",
    "print('Christmas in Colorado Springs with the highest snow depth ({:.1f}\"): {}'.format(most_snowdepth.max_snowdepth, most_snowdepth.date[:4]))"
   ]
  }
 ],
 "metadata": {
  "kernelspec": {
   "display_name": "Python 3",
   "language": "python",
   "name": "python3"
  },
  "language_info": {
   "codemirror_mode": {
    "name": "ipython",
    "version": 3
   },
   "file_extension": ".py",
   "mimetype": "text/x-python",
   "name": "python",
   "nbconvert_exporter": "python",
   "pygments_lexer": "ipython3",
   "version": "3.6.2"
  }
 },
 "nbformat": 4,
 "nbformat_minor": 2
}
